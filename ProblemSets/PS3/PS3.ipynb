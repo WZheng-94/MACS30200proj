{
 "cells": [
  {
   "cell_type": "markdown",
   "metadata": {},
   "source": [
    "**Part 1 Image classification**"
   ]
  },
  {
   "cell_type": "markdown",
   "metadata": {},
   "source": [
    "*I. Inital Test*"
   ]
  },
  {
   "cell_type": "code",
   "execution_count": 1,
   "metadata": {},
   "outputs": [],
   "source": [
    "import random\n",
    "random.seed(1234)"
   ]
  },
  {
   "cell_type": "code",
   "execution_count": 2,
   "metadata": {},
   "outputs": [
    {
     "name": "stderr",
     "output_type": "stream",
     "text": [
      "/software/Anaconda3-5.0.1-el7-x86_64/lib/python3.6/site-packages/h5py/__init__.py:36: FutureWarning: Conversion of the second argument of issubdtype from `float` to `np.floating` is deprecated. In future, it will be treated as `np.float64 == np.dtype(float).type`.\n",
      "  from ._conv import register_converters as _register_converters\n",
      "Using TensorFlow backend.\n"
     ]
    }
   ],
   "source": [
    "from keras.datasets import mnist"
   ]
  },
  {
   "cell_type": "code",
   "execution_count": 3,
   "metadata": {},
   "outputs": [
    {
     "name": "stdout",
     "output_type": "stream",
     "text": [
      "Downloading data from https://s3.amazonaws.com/img-datasets/mnist.npz\n",
      "11493376/11490434 [==============================] - 5s 0us/step\n"
     ]
    }
   ],
   "source": [
    "(train_images, train_labels), (test_images, test_labels) = mnist.load_data()"
   ]
  },
  {
   "cell_type": "code",
   "execution_count": 6,
   "metadata": {},
   "outputs": [],
   "source": [
    "# prepaeing the image\n",
    "from keras.utils import to_categorical\n",
    "train_labels = to_categorical(train_labels)\n",
    "test_labels = to_categorical(test_labels)\n",
    "train_images = train_images.reshape((60000, 28 * 28))\n",
    "train_images = train_images.astype('float32') / 255\n",
    "test_images = test_images.reshape((10000, 28 * 28))\n",
    "test_images = test_images.astype('float32') / 255"
   ]
  },
  {
   "cell_type": "code",
   "execution_count": 7,
   "metadata": {},
   "outputs": [],
   "source": [
    "from sklearn.model_selection import train_test_split\n",
    "X_train, X_val, y_train, y_val = train_test_split(train_images, \n",
    "                                                  train_labels, \n",
    "                                                  test_size=10000, \n",
    "                                                  random_state=42)"
   ]
  },
  {
   "cell_type": "code",
   "execution_count": 10,
   "metadata": {},
   "outputs": [],
   "source": [
    "# the network architecture\n",
    "from keras import models\n",
    "from keras import layers\n",
    "network = models.Sequential()\n",
    "network.add(layers.Dense(512, activation='relu', input_shape=(28 * 28,)))\n",
    "network.add(layers.Dense(512, activation='relu'))\n",
    "network.add(layers.Dense(512, activation='relu'))\n",
    "network.add(layers.Dense(512, activation='relu'))\n",
    "network.add(layers.Dense(10, activation='softmax'))"
   ]
  },
  {
   "cell_type": "code",
   "execution_count": 11,
   "metadata": {},
   "outputs": [
    {
     "name": "stdout",
     "output_type": "stream",
     "text": [
      "WARNING:tensorflow:From /software/Anaconda3-5.0.1-el7-x86_64/lib/python3.6/site-packages/keras/backend/tensorflow_backend.py:2885: calling reduce_sum (from tensorflow.python.ops.math_ops) with keep_dims is deprecated and will be removed in a future version.\n",
      "Instructions for updating:\n",
      "keep_dims is deprecated, use keepdims instead\n",
      "WARNING:tensorflow:From /software/Anaconda3-5.0.1-el7-x86_64/lib/python3.6/site-packages/keras/backend/tensorflow_backend.py:1349: calling reduce_mean (from tensorflow.python.ops.math_ops) with keep_dims is deprecated and will be removed in a future version.\n",
      "Instructions for updating:\n",
      "keep_dims is deprecated, use keepdims instead\n"
     ]
    }
   ],
   "source": [
    "# The compilation step\n",
    "network.compile(optimizer='rmsprop',\n",
    "                loss='categorical_crossentropy',\n",
    "                metrics=['accuracy'])"
   ]
  },
  {
   "cell_type": "code",
   "execution_count": 12,
   "metadata": {},
   "outputs": [
    {
     "name": "stdout",
     "output_type": "stream",
     "text": [
      "Train on 50000 samples, validate on 10000 samples\n",
      "Epoch 1/200\n",
      "50000/50000 [==============================] - 4s 80us/step - loss: 0.5116 - acc: 0.8380 - val_loss: 0.3558 - val_acc: 0.8928\n",
      "Epoch 2/200\n",
      "50000/50000 [==============================] - 2s 37us/step - loss: 0.1522 - acc: 0.9551 - val_loss: 0.1601 - val_acc: 0.9503\n",
      "Epoch 3/200\n",
      "50000/50000 [==============================] - 2s 38us/step - loss: 0.0972 - acc: 0.9704 - val_loss: 0.1543 - val_acc: 0.9574\n",
      "Epoch 4/200\n",
      "50000/50000 [==============================] - 2s 39us/step - loss: 0.0644 - acc: 0.9801 - val_loss: 0.1151 - val_acc: 0.9667\n",
      "Epoch 5/200\n",
      "50000/50000 [==============================] - 2s 39us/step - loss: 0.0473 - acc: 0.9861 - val_loss: 0.1198 - val_acc: 0.9682\n",
      "Epoch 6/200\n",
      "50000/50000 [==============================] - 2s 38us/step - loss: 0.0356 - acc: 0.9891 - val_loss: 0.0854 - val_acc: 0.9777\n",
      "Epoch 7/200\n",
      "50000/50000 [==============================] - 2s 39us/step - loss: 0.0304 - acc: 0.9905 - val_loss: 0.0894 - val_acc: 0.9787\n",
      "Epoch 8/200\n",
      "50000/50000 [==============================] - 2s 38us/step - loss: 0.0231 - acc: 0.9926 - val_loss: 0.1023 - val_acc: 0.9765\n",
      "Epoch 9/200\n",
      "50000/50000 [==============================] - 2s 39us/step - loss: 0.0196 - acc: 0.9946 - val_loss: 0.0954 - val_acc: 0.9764\n",
      "Epoch 10/200\n",
      "50000/50000 [==============================] - 2s 39us/step - loss: 0.0173 - acc: 0.9946 - val_loss: 0.0944 - val_acc: 0.9777\n",
      "Epoch 11/200\n",
      "50000/50000 [==============================] - 2s 39us/step - loss: 0.0178 - acc: 0.9948 - val_loss: 0.0861 - val_acc: 0.9829\n",
      "Epoch 12/200\n",
      "50000/50000 [==============================] - 2s 38us/step - loss: 0.0137 - acc: 0.9961 - val_loss: 0.1055 - val_acc: 0.9777\n",
      "Epoch 13/200\n",
      "50000/50000 [==============================] - 2s 38us/step - loss: 0.0145 - acc: 0.9959 - val_loss: 0.1155 - val_acc: 0.9783\n",
      "Epoch 14/200\n",
      "50000/50000 [==============================] - 2s 39us/step - loss: 0.0115 - acc: 0.9970 - val_loss: 0.1259 - val_acc: 0.9776\n",
      "Epoch 15/200\n",
      "50000/50000 [==============================] - 2s 39us/step - loss: 0.0120 - acc: 0.9968 - val_loss: 0.1219 - val_acc: 0.9790\n",
      "Epoch 16/200\n",
      "50000/50000 [==============================] - 2s 38us/step - loss: 0.0115 - acc: 0.9970 - val_loss: 0.1174 - val_acc: 0.9804\n",
      "Epoch 17/200\n",
      "50000/50000 [==============================] - 2s 37us/step - loss: 0.0117 - acc: 0.9973 - val_loss: 0.1201 - val_acc: 0.9820\n",
      "Epoch 18/200\n",
      "50000/50000 [==============================] - 2s 40us/step - loss: 0.0078 - acc: 0.9977 - val_loss: 0.1607 - val_acc: 0.9767\n",
      "Epoch 19/200\n",
      "50000/50000 [==============================] - 2s 39us/step - loss: 0.0093 - acc: 0.9977 - val_loss: 0.1568 - val_acc: 0.9759\n",
      "Epoch 20/200\n",
      "50000/50000 [==============================] - 2s 36us/step - loss: 0.0099 - acc: 0.9976 - val_loss: 0.1125 - val_acc: 0.9817\n",
      "Epoch 21/200\n",
      "50000/50000 [==============================] - 2s 37us/step - loss: 0.0072 - acc: 0.9980 - val_loss: 0.1400 - val_acc: 0.9785\n",
      "Epoch 22/200\n",
      "50000/50000 [==============================] - 2s 37us/step - loss: 0.0088 - acc: 0.9977 - val_loss: 0.1699 - val_acc: 0.9755\n",
      "Epoch 23/200\n",
      "50000/50000 [==============================] - 2s 36us/step - loss: 0.0063 - acc: 0.9986 - val_loss: 0.1462 - val_acc: 0.9812\n",
      "Epoch 24/200\n",
      "50000/50000 [==============================] - 2s 36us/step - loss: 0.0090 - acc: 0.9977 - val_loss: 0.1485 - val_acc: 0.9792\n",
      "Epoch 25/200\n",
      "50000/50000 [==============================] - 2s 36us/step - loss: 0.0083 - acc: 0.9982 - val_loss: 0.1517 - val_acc: 0.9802\n",
      "Epoch 26/200\n",
      "50000/50000 [==============================] - 2s 37us/step - loss: 0.0076 - acc: 0.9982 - val_loss: 0.1326 - val_acc: 0.9825\n",
      "Epoch 27/200\n",
      "50000/50000 [==============================] - 2s 36us/step - loss: 0.0100 - acc: 0.9981 - val_loss: 0.1562 - val_acc: 0.9796\n",
      "Epoch 28/200\n",
      "50000/50000 [==============================] - 2s 35us/step - loss: 0.0071 - acc: 0.9984 - val_loss: 0.1635 - val_acc: 0.9794\n",
      "Epoch 29/200\n",
      "50000/50000 [==============================] - 2s 37us/step - loss: 0.0066 - acc: 0.9984 - val_loss: 0.2058 - val_acc: 0.9749\n",
      "Epoch 30/200\n",
      "50000/50000 [==============================] - 2s 35us/step - loss: 0.0076 - acc: 0.9982 - val_loss: 0.1435 - val_acc: 0.9805\n",
      "Epoch 31/200\n",
      "50000/50000 [==============================] - 2s 37us/step - loss: 0.0068 - acc: 0.9987 - val_loss: 0.1600 - val_acc: 0.9830\n",
      "Epoch 32/200\n",
      "50000/50000 [==============================] - 2s 36us/step - loss: 0.0092 - acc: 0.9984 - val_loss: 0.1478 - val_acc: 0.9798\n",
      "Epoch 33/200\n",
      "50000/50000 [==============================] - 2s 37us/step - loss: 0.0069 - acc: 0.9984 - val_loss: 0.1711 - val_acc: 0.9791\n",
      "Epoch 34/200\n",
      "50000/50000 [==============================] - 2s 36us/step - loss: 0.0072 - acc: 0.9985 - val_loss: 0.1909 - val_acc: 0.9785\n",
      "Epoch 35/200\n",
      "50000/50000 [==============================] - 2s 36us/step - loss: 0.0089 - acc: 0.9983 - val_loss: 0.1464 - val_acc: 0.9818\n",
      "Epoch 36/200\n",
      "50000/50000 [==============================] - 2s 36us/step - loss: 0.0072 - acc: 0.9988 - val_loss: 0.1465 - val_acc: 0.9838\n",
      "Epoch 37/200\n",
      "50000/50000 [==============================] - 2s 39us/step - loss: 0.0114 - acc: 0.9983 - val_loss: 0.1655 - val_acc: 0.9802\n",
      "Epoch 38/200\n",
      "50000/50000 [==============================] - 2s 37us/step - loss: 0.0059 - acc: 0.9987 - val_loss: 0.1507 - val_acc: 0.9817\n",
      "Epoch 39/200\n",
      "50000/50000 [==============================] - 2s 38us/step - loss: 0.0068 - acc: 0.9988 - val_loss: 0.1389 - val_acc: 0.9828\n",
      "Epoch 40/200\n",
      "50000/50000 [==============================] - 2s 38us/step - loss: 0.0058 - acc: 0.9988 - val_loss: 0.1588 - val_acc: 0.9821\n",
      "Epoch 41/200\n",
      "50000/50000 [==============================] - 2s 40us/step - loss: 0.0086 - acc: 0.9982 - val_loss: 0.1285 - val_acc: 0.9833\n",
      "Epoch 42/200\n",
      "50000/50000 [==============================] - 2s 38us/step - loss: 0.0057 - acc: 0.9988 - val_loss: 0.1800 - val_acc: 0.9814\n",
      "Epoch 43/200\n",
      "50000/50000 [==============================] - 2s 38us/step - loss: 0.0069 - acc: 0.9987 - val_loss: 0.1814 - val_acc: 0.9808\n",
      "Epoch 44/200\n",
      "50000/50000 [==============================] - 2s 38us/step - loss: 0.0075 - acc: 0.9985 - val_loss: 0.1386 - val_acc: 0.9822\n",
      "Epoch 45/200\n",
      "50000/50000 [==============================] - 2s 38us/step - loss: 0.0037 - acc: 0.9991 - val_loss: 0.1455 - val_acc: 0.9839\n",
      "Epoch 46/200\n",
      "50000/50000 [==============================] - 2s 38us/step - loss: 0.0056 - acc: 0.9990 - val_loss: 0.1629 - val_acc: 0.9832\n",
      "Epoch 47/200\n",
      "50000/50000 [==============================] - 2s 40us/step - loss: 0.0078 - acc: 0.9986 - val_loss: 0.1702 - val_acc: 0.9812\n",
      "Epoch 48/200\n",
      "50000/50000 [==============================] - 2s 39us/step - loss: 0.0062 - acc: 0.9988 - val_loss: 0.1654 - val_acc: 0.9822\n",
      "Epoch 49/200\n",
      "50000/50000 [==============================] - 2s 38us/step - loss: 0.0064 - acc: 0.9989 - val_loss: 0.1475 - val_acc: 0.9831\n",
      "Epoch 50/200\n",
      "50000/50000 [==============================] - 2s 41us/step - loss: 0.0054 - acc: 0.9991 - val_loss: 0.1999 - val_acc: 0.9794\n",
      "Epoch 51/200\n",
      "50000/50000 [==============================] - 2s 39us/step - loss: 0.0065 - acc: 0.9990 - val_loss: 0.1738 - val_acc: 0.9825\n",
      "Epoch 52/200\n",
      "50000/50000 [==============================] - 2s 36us/step - loss: 0.0097 - acc: 0.9985 - val_loss: 0.1355 - val_acc: 0.9840\n",
      "Epoch 53/200\n",
      "50000/50000 [==============================] - 2s 37us/step - loss: 0.0068 - acc: 0.9988 - val_loss: 0.1849 - val_acc: 0.9798\n",
      "Epoch 54/200\n",
      "50000/50000 [==============================] - 2s 37us/step - loss: 0.0060 - acc: 0.9990 - val_loss: 0.1654 - val_acc: 0.9821\n",
      "Epoch 55/200\n",
      "50000/50000 [==============================] - 2s 35us/step - loss: 0.0052 - acc: 0.9990 - val_loss: 0.1632 - val_acc: 0.9822\n",
      "Epoch 56/200\n",
      "50000/50000 [==============================] - 2s 35us/step - loss: 0.0055 - acc: 0.9990 - val_loss: 0.1679 - val_acc: 0.9832\n",
      "Epoch 57/200\n",
      "50000/50000 [==============================] - 2s 36us/step - loss: 0.0081 - acc: 0.9988 - val_loss: 0.1642 - val_acc: 0.9828\n",
      "Epoch 58/200\n",
      "50000/50000 [==============================] - 2s 37us/step - loss: 0.0057 - acc: 0.9989 - val_loss: 0.1573 - val_acc: 0.9841\n",
      "Epoch 59/200\n"
     ]
    },
    {
     "name": "stdout",
     "output_type": "stream",
     "text": [
      "50000/50000 [==============================] - 2s 38us/step - loss: 0.0068 - acc: 0.9989 - val_loss: 0.1667 - val_acc: 0.9823\n",
      "Epoch 60/200\n",
      "50000/50000 [==============================] - 2s 36us/step - loss: 0.0063 - acc: 0.9988 - val_loss: 0.1570 - val_acc: 0.9832\n",
      "Epoch 61/200\n",
      "50000/50000 [==============================] - 2s 36us/step - loss: 0.0065 - acc: 0.9989 - val_loss: 0.1591 - val_acc: 0.9842\n",
      "Epoch 62/200\n",
      "50000/50000 [==============================] - 2s 36us/step - loss: 0.0041 - acc: 0.9990 - val_loss: 0.1711 - val_acc: 0.9824\n",
      "Epoch 63/200\n",
      "50000/50000 [==============================] - 2s 35us/step - loss: 0.0079 - acc: 0.9988 - val_loss: 0.1682 - val_acc: 0.9822\n",
      "Epoch 64/200\n",
      "50000/50000 [==============================] - 2s 36us/step - loss: 0.0080 - acc: 0.9987 - val_loss: 0.1584 - val_acc: 0.9824\n",
      "Epoch 65/200\n",
      "50000/50000 [==============================] - 2s 37us/step - loss: 0.0064 - acc: 0.9990 - val_loss: 0.1903 - val_acc: 0.9808\n",
      "Epoch 66/200\n",
      "50000/50000 [==============================] - 2s 37us/step - loss: 0.0110 - acc: 0.9984 - val_loss: 0.1612 - val_acc: 0.9821\n",
      "Epoch 67/200\n",
      "50000/50000 [==============================] - 2s 36us/step - loss: 0.0072 - acc: 0.9989 - val_loss: 0.1594 - val_acc: 0.9840\n",
      "Epoch 68/200\n",
      "50000/50000 [==============================] - 2s 36us/step - loss: 0.0058 - acc: 0.9991 - val_loss: 0.1876 - val_acc: 0.9821\n",
      "Epoch 69/200\n",
      "50000/50000 [==============================] - 2s 39us/step - loss: 0.0065 - acc: 0.9990 - val_loss: 0.1849 - val_acc: 0.9830\n",
      "Epoch 70/200\n",
      "50000/50000 [==============================] - 2s 39us/step - loss: 0.0078 - acc: 0.9988 - val_loss: 0.1660 - val_acc: 0.9836\n",
      "Epoch 71/200\n",
      "50000/50000 [==============================] - 2s 39us/step - loss: 0.0065 - acc: 0.9990 - val_loss: 0.2040 - val_acc: 0.9775\n",
      "Epoch 72/200\n",
      "50000/50000 [==============================] - 2s 37us/step - loss: 0.0064 - acc: 0.9990 - val_loss: 0.1467 - val_acc: 0.9838\n",
      "Epoch 73/200\n",
      "50000/50000 [==============================] - 2s 38us/step - loss: 0.0056 - acc: 0.9992 - val_loss: 0.1765 - val_acc: 0.9830\n",
      "Epoch 74/200\n",
      "50000/50000 [==============================] - 2s 37us/step - loss: 0.0072 - acc: 0.9989 - val_loss: 0.1792 - val_acc: 0.9831\n",
      "Epoch 75/200\n",
      "50000/50000 [==============================] - 2s 38us/step - loss: 0.0096 - acc: 0.9987 - val_loss: 0.1710 - val_acc: 0.9825\n",
      "Epoch 76/200\n",
      "50000/50000 [==============================] - 2s 38us/step - loss: 0.0084 - acc: 0.9989 - val_loss: 0.1932 - val_acc: 0.9800\n",
      "Epoch 77/200\n",
      "50000/50000 [==============================] - 2s 39us/step - loss: 0.0061 - acc: 0.9989 - val_loss: 0.1556 - val_acc: 0.9832\n",
      "Epoch 78/200\n",
      "50000/50000 [==============================] - 2s 37us/step - loss: 0.0058 - acc: 0.9991 - val_loss: 0.1393 - val_acc: 0.9845\n",
      "Epoch 79/200\n",
      "50000/50000 [==============================] - 2s 39us/step - loss: 0.0065 - acc: 0.9990 - val_loss: 0.1642 - val_acc: 0.9822\n",
      "Epoch 80/200\n",
      "50000/50000 [==============================] - 2s 38us/step - loss: 0.0083 - acc: 0.9989 - val_loss: 0.1533 - val_acc: 0.9843\n",
      "Epoch 81/200\n",
      "50000/50000 [==============================] - 2s 37us/step - loss: 0.0073 - acc: 0.9989 - val_loss: 0.1471 - val_acc: 0.9841\n",
      "Epoch 82/200\n",
      "50000/50000 [==============================] - 2s 38us/step - loss: 0.0081 - acc: 0.9988 - val_loss: 0.1664 - val_acc: 0.9839\n",
      "Epoch 83/200\n",
      "50000/50000 [==============================] - 2s 40us/step - loss: 0.0057 - acc: 0.9991 - val_loss: 0.1665 - val_acc: 0.9827\n",
      "Epoch 84/200\n",
      "50000/50000 [==============================] - 2s 37us/step - loss: 0.0103 - acc: 0.9988 - val_loss: 0.1432 - val_acc: 0.9855\n",
      "Epoch 85/200\n",
      "50000/50000 [==============================] - 2s 37us/step - loss: 0.0087 - acc: 0.9989 - val_loss: 0.1665 - val_acc: 0.9847\n",
      "Epoch 86/200\n",
      "50000/50000 [==============================] - 2s 37us/step - loss: 0.0095 - acc: 0.9987 - val_loss: 0.1954 - val_acc: 0.9808\n",
      "Epoch 87/200\n",
      "50000/50000 [==============================] - 2s 35us/step - loss: 0.0058 - acc: 0.9991 - val_loss: 0.1690 - val_acc: 0.9827\n",
      "Epoch 88/200\n",
      "50000/50000 [==============================] - 2s 37us/step - loss: 0.0046 - acc: 0.9993 - val_loss: 0.1717 - val_acc: 0.9827\n",
      "Epoch 89/200\n",
      "50000/50000 [==============================] - 2s 36us/step - loss: 0.0096 - acc: 0.9987 - val_loss: 0.1517 - val_acc: 0.9833\n",
      "Epoch 90/200\n",
      "50000/50000 [==============================] - 2s 36us/step - loss: 0.0051 - acc: 0.9991 - val_loss: 0.1794 - val_acc: 0.9823\n",
      "Epoch 91/200\n",
      "50000/50000 [==============================] - 2s 37us/step - loss: 0.0070 - acc: 0.9993 - val_loss: 0.2049 - val_acc: 0.9814\n",
      "Epoch 92/200\n",
      "50000/50000 [==============================] - 2s 37us/step - loss: 0.0089 - acc: 0.9988 - val_loss: 0.1615 - val_acc: 0.9831\n",
      "Epoch 93/200\n",
      "50000/50000 [==============================] - 2s 36us/step - loss: 0.0064 - acc: 0.9991 - val_loss: 0.1757 - val_acc: 0.9821\n",
      "Epoch 94/200\n",
      "50000/50000 [==============================] - 2s 36us/step - loss: 0.0050 - acc: 0.9993 - val_loss: 0.1732 - val_acc: 0.9836\n",
      "Epoch 95/200\n",
      "50000/50000 [==============================] - 2s 37us/step - loss: 0.0049 - acc: 0.9993 - val_loss: 0.1744 - val_acc: 0.9836\n",
      "Epoch 96/200\n",
      "50000/50000 [==============================] - 2s 37us/step - loss: 0.0083 - acc: 0.9991 - val_loss: 0.1692 - val_acc: 0.9851\n",
      "Epoch 97/200\n",
      "50000/50000 [==============================] - 2s 35us/step - loss: 0.0076 - acc: 0.9991 - val_loss: 0.1676 - val_acc: 0.9837\n",
      "Epoch 98/200\n",
      "50000/50000 [==============================] - 2s 37us/step - loss: 0.0064 - acc: 0.9990 - val_loss: 0.1808 - val_acc: 0.9828\n",
      "Epoch 99/200\n",
      "50000/50000 [==============================] - 2s 40us/step - loss: 0.0065 - acc: 0.9990 - val_loss: 0.2177 - val_acc: 0.9813\n",
      "Epoch 100/200\n",
      "50000/50000 [==============================] - 2s 37us/step - loss: 0.0105 - acc: 0.9988 - val_loss: 0.1550 - val_acc: 0.9838\n",
      "Epoch 101/200\n",
      "50000/50000 [==============================] - 2s 38us/step - loss: 0.0096 - acc: 0.9986 - val_loss: 0.1497 - val_acc: 0.9831\n",
      "Epoch 102/200\n",
      "50000/50000 [==============================] - 2s 37us/step - loss: 0.0089 - acc: 0.9989 - val_loss: 0.1730 - val_acc: 0.9827\n",
      "Epoch 103/200\n",
      "50000/50000 [==============================] - 2s 38us/step - loss: 0.0041 - acc: 0.9995 - val_loss: 0.2179 - val_acc: 0.9817\n",
      "Epoch 104/200\n",
      "50000/50000 [==============================] - 2s 39us/step - loss: 0.0127 - acc: 0.9985 - val_loss: 0.1801 - val_acc: 0.9829\n",
      "Epoch 105/200\n",
      "50000/50000 [==============================] - 2s 38us/step - loss: 0.0039 - acc: 0.9995 - val_loss: 0.1748 - val_acc: 0.9845\n",
      "Epoch 106/200\n",
      "50000/50000 [==============================] - 2s 38us/step - loss: 0.0066 - acc: 0.9992 - val_loss: 0.1811 - val_acc: 0.9837\n",
      "Epoch 107/200\n",
      "50000/50000 [==============================] - 2s 38us/step - loss: 0.0079 - acc: 0.9991 - val_loss: 0.1925 - val_acc: 0.9824\n",
      "Epoch 108/200\n",
      "50000/50000 [==============================] - 2s 38us/step - loss: 0.0073 - acc: 0.9990 - val_loss: 0.2000 - val_acc: 0.9835\n",
      "Epoch 109/200\n",
      "50000/50000 [==============================] - 2s 39us/step - loss: 0.0108 - acc: 0.9988 - val_loss: 0.2243 - val_acc: 0.9815\n",
      "Epoch 110/200\n",
      "50000/50000 [==============================] - 2s 38us/step - loss: 0.0095 - acc: 0.9989 - val_loss: 0.1933 - val_acc: 0.9837\n",
      "Epoch 111/200\n",
      "50000/50000 [==============================] - 2s 39us/step - loss: 0.0055 - acc: 0.9993 - val_loss: 0.1874 - val_acc: 0.9844\n",
      "Epoch 112/200\n",
      "50000/50000 [==============================] - 2s 39us/step - loss: 0.0077 - acc: 0.9991 - val_loss: 0.1805 - val_acc: 0.9827\n",
      "Epoch 113/200\n",
      "50000/50000 [==============================] - 2s 38us/step - loss: 0.0092 - acc: 0.9990 - val_loss: 0.2056 - val_acc: 0.9816\n",
      "Epoch 114/200\n",
      "50000/50000 [==============================] - 2s 38us/step - loss: 0.0083 - acc: 0.9990 - val_loss: 0.1726 - val_acc: 0.9834\n",
      "Epoch 115/200\n",
      "50000/50000 [==============================] - 2s 39us/step - loss: 0.0040 - acc: 0.9994 - val_loss: 0.1719 - val_acc: 0.9851\n",
      "Epoch 116/200\n",
      "50000/50000 [==============================] - 2s 36us/step - loss: 0.0064 - acc: 0.9991 - val_loss: 0.1770 - val_acc: 0.9828\n",
      "Epoch 117/200\n",
      "50000/50000 [==============================] - 2s 36us/step - loss: 0.0079 - acc: 0.9991 - val_loss: 0.2121 - val_acc: 0.9787\n"
     ]
    },
    {
     "name": "stdout",
     "output_type": "stream",
     "text": [
      "Epoch 118/200\n",
      "50000/50000 [==============================] - 2s 35us/step - loss: 0.0063 - acc: 0.9993 - val_loss: 0.1597 - val_acc: 0.9843\n",
      "Epoch 119/200\n",
      "50000/50000 [==============================] - 2s 35us/step - loss: 0.0083 - acc: 0.9990 - val_loss: 0.1661 - val_acc: 0.9833\n",
      "Epoch 120/200\n",
      "50000/50000 [==============================] - 2s 36us/step - loss: 0.0067 - acc: 0.9992 - val_loss: 0.1924 - val_acc: 0.9816\n",
      "Epoch 121/200\n",
      "50000/50000 [==============================] - 2s 35us/step - loss: 0.0064 - acc: 0.9991 - val_loss: 0.1606 - val_acc: 0.9843\n",
      "Epoch 122/200\n",
      "50000/50000 [==============================] - 2s 36us/step - loss: 0.0047 - acc: 0.9994 - val_loss: 0.2207 - val_acc: 0.9807\n",
      "Epoch 123/200\n",
      "50000/50000 [==============================] - 2s 36us/step - loss: 0.0074 - acc: 0.9990 - val_loss: 0.1934 - val_acc: 0.9831\n",
      "Epoch 124/200\n",
      "50000/50000 [==============================] - 2s 37us/step - loss: 0.0058 - acc: 0.9991 - val_loss: 0.1981 - val_acc: 0.9816\n",
      "Epoch 125/200\n",
      "50000/50000 [==============================] - 2s 36us/step - loss: 0.0066 - acc: 0.9990 - val_loss: 0.1991 - val_acc: 0.9820\n",
      "Epoch 126/200\n",
      "50000/50000 [==============================] - 2s 38us/step - loss: 0.0076 - acc: 0.9990 - val_loss: 0.2073 - val_acc: 0.9820\n",
      "Epoch 127/200\n",
      "50000/50000 [==============================] - 2s 37us/step - loss: 0.0102 - acc: 0.9988 - val_loss: 0.1819 - val_acc: 0.9821\n",
      "Epoch 128/200\n",
      "50000/50000 [==============================] - 2s 37us/step - loss: 0.0066 - acc: 0.9992 - val_loss: 0.1810 - val_acc: 0.9829\n",
      "Epoch 129/200\n",
      "50000/50000 [==============================] - 2s 37us/step - loss: 0.0090 - acc: 0.9990 - val_loss: 0.2182 - val_acc: 0.9818\n",
      "Epoch 130/200\n",
      "50000/50000 [==============================] - 2s 35us/step - loss: 0.0102 - acc: 0.9989 - val_loss: 0.1761 - val_acc: 0.9837\n",
      "Epoch 131/200\n",
      "50000/50000 [==============================] - 2s 36us/step - loss: 0.0070 - acc: 0.9993 - val_loss: 0.2083 - val_acc: 0.9813\n",
      "Epoch 132/200\n",
      "50000/50000 [==============================] - 2s 36us/step - loss: 0.0089 - acc: 0.9991 - val_loss: 0.1849 - val_acc: 0.9829\n",
      "Epoch 133/200\n",
      "50000/50000 [==============================] - 2s 38us/step - loss: 0.0071 - acc: 0.9993 - val_loss: 0.1861 - val_acc: 0.9838\n",
      "Epoch 134/200\n",
      "50000/50000 [==============================] - 2s 38us/step - loss: 0.0045 - acc: 0.9993 - val_loss: 0.2077 - val_acc: 0.9834\n",
      "Epoch 135/200\n",
      "50000/50000 [==============================] - 2s 38us/step - loss: 0.0081 - acc: 0.9992 - val_loss: 0.2246 - val_acc: 0.9817\n",
      "Epoch 136/200\n",
      "50000/50000 [==============================] - 2s 38us/step - loss: 0.0083 - acc: 0.9991 - val_loss: 0.2140 - val_acc: 0.9815\n",
      "Epoch 137/200\n",
      "50000/50000 [==============================] - 2s 38us/step - loss: 0.0063 - acc: 0.9993 - val_loss: 0.1997 - val_acc: 0.9818\n",
      "Epoch 138/200\n",
      "50000/50000 [==============================] - 2s 38us/step - loss: 0.0104 - acc: 0.9988 - val_loss: 0.1973 - val_acc: 0.9819\n",
      "Epoch 139/200\n",
      "50000/50000 [==============================] - 2s 40us/step - loss: 0.0080 - acc: 0.9993 - val_loss: 0.1828 - val_acc: 0.9834\n",
      "Epoch 140/200\n",
      "50000/50000 [==============================] - 2s 40us/step - loss: 0.0093 - acc: 0.9991 - val_loss: 0.1978 - val_acc: 0.9821\n",
      "Epoch 141/200\n",
      "50000/50000 [==============================] - 2s 40us/step - loss: 0.0065 - acc: 0.9992 - val_loss: 0.1605 - val_acc: 0.9839\n",
      "Epoch 142/200\n",
      "50000/50000 [==============================] - 2s 40us/step - loss: 0.0024 - acc: 0.9997 - val_loss: 0.2051 - val_acc: 0.9822\n",
      "Epoch 143/200\n",
      "50000/50000 [==============================] - 2s 39us/step - loss: 0.0070 - acc: 0.9991 - val_loss: 0.1931 - val_acc: 0.9822\n",
      "Epoch 144/200\n",
      "50000/50000 [==============================] - 2s 38us/step - loss: 0.0057 - acc: 0.9993 - val_loss: 0.1958 - val_acc: 0.9829\n",
      "Epoch 145/200\n",
      "50000/50000 [==============================] - 2s 39us/step - loss: 0.0059 - acc: 0.9993 - val_loss: 0.1780 - val_acc: 0.9846\n",
      "Epoch 146/200\n",
      "50000/50000 [==============================] - 2s 38us/step - loss: 0.0062 - acc: 0.9994 - val_loss: 0.2005 - val_acc: 0.9830\n",
      "Epoch 147/200\n",
      "50000/50000 [==============================] - 2s 38us/step - loss: 0.0113 - acc: 0.9989 - val_loss: 0.1633 - val_acc: 0.9845\n",
      "Epoch 148/200\n",
      "50000/50000 [==============================] - 2s 37us/step - loss: 0.0015 - acc: 0.9997 - val_loss: 0.2243 - val_acc: 0.9794\n",
      "Epoch 149/200\n",
      "50000/50000 [==============================] - 2s 35us/step - loss: 0.0113 - acc: 0.9989 - val_loss: 0.1952 - val_acc: 0.9828\n",
      "Epoch 150/200\n",
      "50000/50000 [==============================] - 2s 35us/step - loss: 0.0035 - acc: 0.9996 - val_loss: 0.2065 - val_acc: 0.9832\n",
      "Epoch 151/200\n",
      "50000/50000 [==============================] - 2s 37us/step - loss: 0.0077 - acc: 0.9993 - val_loss: 0.1958 - val_acc: 0.9822\n",
      "Epoch 152/200\n",
      "50000/50000 [==============================] - 2s 36us/step - loss: 0.0089 - acc: 0.9991 - val_loss: 0.2349 - val_acc: 0.9800\n",
      "Epoch 153/200\n",
      "50000/50000 [==============================] - 2s 36us/step - loss: 0.0050 - acc: 0.9994 - val_loss: 0.2351 - val_acc: 0.9807\n",
      "Epoch 154/200\n",
      "50000/50000 [==============================] - 2s 37us/step - loss: 0.0131 - acc: 0.9987 - val_loss: 0.2636 - val_acc: 0.9792\n",
      "Epoch 155/200\n",
      "50000/50000 [==============================] - 2s 36us/step - loss: 0.0090 - acc: 0.9990 - val_loss: 0.2069 - val_acc: 0.9809\n",
      "Epoch 156/200\n",
      "50000/50000 [==============================] - 2s 37us/step - loss: 0.0066 - acc: 0.9990 - val_loss: 0.2299 - val_acc: 0.9804\n",
      "Epoch 157/200\n",
      "50000/50000 [==============================] - 2s 37us/step - loss: 0.0100 - acc: 0.9989 - val_loss: 0.2329 - val_acc: 0.9787\n",
      "Epoch 158/200\n",
      "50000/50000 [==============================] - 2s 37us/step - loss: 0.0095 - acc: 0.9989 - val_loss: 0.1818 - val_acc: 0.9833\n",
      "Epoch 159/200\n",
      "50000/50000 [==============================] - 2s 37us/step - loss: 0.0054 - acc: 0.9993 - val_loss: 0.2363 - val_acc: 0.9788\n",
      "Epoch 160/200\n",
      "50000/50000 [==============================] - 2s 35us/step - loss: 0.0091 - acc: 0.9989 - val_loss: 0.1948 - val_acc: 0.9822\n",
      "Epoch 161/200\n",
      "50000/50000 [==============================] - 2s 36us/step - loss: 0.0048 - acc: 0.9996 - val_loss: 0.1993 - val_acc: 0.9849\n",
      "Epoch 162/200\n",
      "50000/50000 [==============================] - 2s 36us/step - loss: 0.0092 - acc: 0.9990 - val_loss: 0.2420 - val_acc: 0.9816\n",
      "Epoch 163/200\n",
      "50000/50000 [==============================] - 2s 36us/step - loss: 0.0056 - acc: 0.9994 - val_loss: 0.2024 - val_acc: 0.9836\n",
      "Epoch 164/200\n",
      "50000/50000 [==============================] - 2s 36us/step - loss: 0.0040 - acc: 0.9996 - val_loss: 0.1966 - val_acc: 0.9851\n",
      "Epoch 165/200\n",
      "50000/50000 [==============================] - 2s 38us/step - loss: 0.0055 - acc: 0.9994 - val_loss: 0.2421 - val_acc: 0.9815\n",
      "Epoch 166/200\n",
      "50000/50000 [==============================] - 2s 37us/step - loss: 0.0162 - acc: 0.9984 - val_loss: 0.1954 - val_acc: 0.9834\n",
      "Epoch 167/200\n",
      "50000/50000 [==============================] - 2s 37us/step - loss: 0.0098 - acc: 0.9988 - val_loss: 0.1857 - val_acc: 0.9834\n",
      "Epoch 168/200\n",
      "50000/50000 [==============================] - 2s 37us/step - loss: 0.0059 - acc: 0.9993 - val_loss: 0.2224 - val_acc: 0.9818\n",
      "Epoch 169/200\n",
      "50000/50000 [==============================] - 2s 37us/step - loss: 0.0093 - acc: 0.9991 - val_loss: 0.1968 - val_acc: 0.9844\n",
      "Epoch 170/200\n",
      "50000/50000 [==============================] - 2s 39us/step - loss: 0.0077 - acc: 0.9993 - val_loss: 0.2013 - val_acc: 0.9840\n",
      "Epoch 171/200\n",
      "50000/50000 [==============================] - 2s 38us/step - loss: 0.0082 - acc: 0.9993 - val_loss: 0.2304 - val_acc: 0.9814\n",
      "Epoch 172/200\n",
      "50000/50000 [==============================] - 2s 38us/step - loss: 0.0090 - acc: 0.9991 - val_loss: 0.2011 - val_acc: 0.9839\n",
      "Epoch 173/200\n",
      "50000/50000 [==============================] - 2s 39us/step - loss: 0.0059 - acc: 0.9993 - val_loss: 0.1941 - val_acc: 0.9832\n",
      "Epoch 174/200\n",
      "50000/50000 [==============================] - 2s 38us/step - loss: 0.0048 - acc: 0.9994 - val_loss: 0.1877 - val_acc: 0.9841\n",
      "Epoch 175/200\n",
      "50000/50000 [==============================] - 2s 39us/step - loss: 0.0040 - acc: 0.9995 - val_loss: 0.1713 - val_acc: 0.9845\n",
      "Epoch 176/200\n"
     ]
    },
    {
     "name": "stdout",
     "output_type": "stream",
     "text": [
      "50000/50000 [==============================] - 2s 38us/step - loss: 0.0044 - acc: 0.9995 - val_loss: 0.2166 - val_acc: 0.9819\n",
      "Epoch 177/200\n",
      "50000/50000 [==============================] - 2s 38us/step - loss: 0.0051 - acc: 0.9994 - val_loss: 0.1717 - val_acc: 0.9850\n",
      "Epoch 178/200\n",
      "50000/50000 [==============================] - 2s 38us/step - loss: 0.0042 - acc: 0.9995 - val_loss: 0.1886 - val_acc: 0.9847\n",
      "Epoch 179/200\n",
      "50000/50000 [==============================] - 2s 40us/step - loss: 0.0060 - acc: 0.9994 - val_loss: 0.2146 - val_acc: 0.9828\n",
      "Epoch 180/200\n",
      "50000/50000 [==============================] - 2s 39us/step - loss: 0.0069 - acc: 0.9994 - val_loss: 0.1940 - val_acc: 0.9833\n",
      "Epoch 181/200\n",
      "50000/50000 [==============================] - 2s 36us/step - loss: 0.0058 - acc: 0.9994 - val_loss: 0.2212 - val_acc: 0.9822\n",
      "Epoch 182/200\n",
      "50000/50000 [==============================] - 2s 37us/step - loss: 0.0067 - acc: 0.9993 - val_loss: 0.2024 - val_acc: 0.9833\n",
      "Epoch 183/200\n",
      "50000/50000 [==============================] - 2s 38us/step - loss: 0.0095 - acc: 0.9991 - val_loss: 0.2260 - val_acc: 0.9816\n",
      "Epoch 184/200\n",
      "50000/50000 [==============================] - 2s 36us/step - loss: 0.0049 - acc: 0.9994 - val_loss: 0.2023 - val_acc: 0.9826\n",
      "Epoch 185/200\n",
      "50000/50000 [==============================] - 2s 36us/step - loss: 0.0087 - acc: 0.9992 - val_loss: 0.2319 - val_acc: 0.9811\n",
      "Epoch 186/200\n",
      "50000/50000 [==============================] - 2s 36us/step - loss: 0.0059 - acc: 0.9993 - val_loss: 0.2300 - val_acc: 0.9818\n",
      "Epoch 187/200\n",
      "50000/50000 [==============================] - 2s 37us/step - loss: 0.0043 - acc: 0.9995 - val_loss: 0.2375 - val_acc: 0.9805\n",
      "Epoch 188/200\n",
      "50000/50000 [==============================] - 2s 36us/step - loss: 0.0060 - acc: 0.9995 - val_loss: 0.1987 - val_acc: 0.9845\n",
      "Epoch 189/200\n",
      "50000/50000 [==============================] - 2s 36us/step - loss: 0.0046 - acc: 0.9996 - val_loss: 0.2029 - val_acc: 0.9843\n",
      "Epoch 190/200\n",
      "50000/50000 [==============================] - 2s 35us/step - loss: 0.0034 - acc: 0.9996 - val_loss: 0.2041 - val_acc: 0.9835\n",
      "Epoch 191/200\n",
      "50000/50000 [==============================] - 2s 35us/step - loss: 0.0061 - acc: 0.9995 - val_loss: 0.2292 - val_acc: 0.9808\n",
      "Epoch 192/200\n",
      "50000/50000 [==============================] - 2s 35us/step - loss: 0.0061 - acc: 0.9994 - val_loss: 0.2098 - val_acc: 0.9833\n",
      "Epoch 193/200\n",
      "50000/50000 [==============================] - 2s 36us/step - loss: 0.0044 - acc: 0.9994 - val_loss: 0.1951 - val_acc: 0.9843\n",
      "Epoch 194/200\n",
      "50000/50000 [==============================] - 2s 35us/step - loss: 0.0061 - acc: 0.9994 - val_loss: 0.2365 - val_acc: 0.9811\n",
      "Epoch 195/200\n",
      "50000/50000 [==============================] - 2s 34us/step - loss: 0.0064 - acc: 0.9993 - val_loss: 0.2039 - val_acc: 0.9841\n",
      "Epoch 196/200\n",
      "50000/50000 [==============================] - 2s 35us/step - loss: 0.0049 - acc: 0.9994 - val_loss: 0.2201 - val_acc: 0.9827\n",
      "Epoch 197/200\n",
      "50000/50000 [==============================] - 2s 36us/step - loss: 0.0062 - acc: 0.9995 - val_loss: 0.2249 - val_acc: 0.9834\n",
      "Epoch 198/200\n",
      "50000/50000 [==============================] - 2s 39us/step - loss: 0.0066 - acc: 0.9994 - val_loss: 0.2056 - val_acc: 0.9835\n",
      "Epoch 199/200\n",
      "50000/50000 [==============================] - 2s 37us/step - loss: 0.0044 - acc: 0.9993 - val_loss: 0.1875 - val_acc: 0.9842\n",
      "Epoch 200/200\n",
      "50000/50000 [==============================] - 2s 38us/step - loss: 0.0015 - acc: 0.9998 - val_loss: 0.1769 - val_acc: 0.9853\n"
     ]
    }
   ],
   "source": [
    "history = network.fit(X_train, \n",
    "                      y_train, \n",
    "                      epochs=200, \n",
    "                      batch_size=512,\n",
    "                      validation_data=(X_val, y_val))"
   ]
  },
  {
   "cell_type": "code",
   "execution_count": 14,
   "metadata": {},
   "outputs": [
    {
     "data": {
      "image/png": "[encoded data removed]",
      "text/plain": [
       "<Figure size 432x288 with 1 Axes>"
      ]
     },
     "metadata": {},
     "output_type": "display_data"
    }
   ],
   "source": [
    "# Plotting the validation loss\n",
    "import matplotlib.pyplot as plt\n",
    "val_loss = history.history['val_loss']\n",
    "epochs = range(1, len(val_loss) + 1)\n",
    "plt.plot(epochs, val_loss, 'b', label='Validation loss')\n",
    "plt.title('Validation loss')\n",
    "plt.xlabel('Epochs')\n",
    "plt.ylabel('Loss')\n",
    "plt.legend()\n",
    "plt.show()"
   ]
  },
  {
   "cell_type": "code",
   "execution_count": 15,
   "metadata": {},
   "outputs": [
    {
     "data": {
      "image/png": "[encoded data removed]",
      "text/plain": [
       "<Figure size 432x288 with 1 Axes>"
      ]
     },
     "metadata": {},
     "output_type": "display_data"
    }
   ],
   "source": [
    "# Plotting the validation accuracy\n",
    "plt.clf() #Clears the figure\n",
    "val_acc = history.history['val_acc']\n",
    "plt.plot(epochs, val_acc, 'b', label='Validation acc')\n",
    "plt.title('Validation accuracy')\n",
    "plt.xlabel('Epochs')\n",
    "plt.ylabel('Loss')\n",
    "plt.legend()\n",
    "plt.show()"
   ]
  },
  {
   "cell_type": "code",
   "execution_count": 18,
   "metadata": {},
   "outputs": [
    {
     "data": {
      "image/png": "[encoded data removed]",
      "text/plain": [
       "<Figure size 432x288 with 1 Axes>"
      ]
     },
     "metadata": {},
     "output_type": "display_data"
    }
   ],
   "source": [
    "# Plotting validation accuracy (smooth)\n",
    "def smooth_curve(points, factor=0.9):\n",
    "    smoothed_points = []\n",
    "    for point in points:\n",
    "        if smoothed_points:\n",
    "            previous = smoothed_points[-1]\n",
    "            smoothed_points.append(previous * factor + point * (1 - factor))\n",
    "        else:\n",
    "            smoothed_points.append(point)\n",
    "    return smoothed_points\n",
    "\n",
    "smooth_history = smooth_curve(val_acc[10:])\n",
    "plt.plot(range(10, len(epochs)), smooth_history)\n",
    "plt.xlabel('Epochs')\n",
    "plt.ylabel('Validation accuracy')\n",
    "plt.title('Validation accuracy (smooth)')\n",
    "plt.show()"
   ]
  },
  {
   "cell_type": "code",
   "execution_count": 20,
   "metadata": {},
   "outputs": [
    {
     "data": {
      "text/plain": [
       "83"
      ]
     },
     "execution_count": 20,
     "metadata": {},
     "output_type": "execute_result"
    }
   ],
   "source": [
    "import numpy as np\n",
    "np.argmax(val_acc)"
   ]
  },
  {
   "cell_type": "markdown",
   "metadata": {},
   "source": [
    "From the plot we can see the accuracy starts the drop around epoch of 175, but actually it peaks at epoch 84 (98.55%)"
   ]
  },
  {
   "cell_type": "markdown",
   "metadata": {},
   "source": [
    "*II. Implement dropout*"
   ]
  },
  {
   "cell_type": "code",
   "execution_count": 22,
   "metadata": {},
   "outputs": [],
   "source": [
    "drop_network = models.Sequential()\n",
    "drop_network.add(layers.Dense(512, activation='relu', input_shape=(28 * 28,)))\n",
    "drop_network.add(layers.Dropout(0.5))\n",
    "drop_network.add(layers.Dense(512, activation='relu'))\n",
    "drop_network.add(layers.Dropout(0.5))\n",
    "drop_network.add(layers.Dense(512, activation='relu'))\n",
    "drop_network.add(layers.Dropout(0.5))\n",
    "drop_network.add(layers.Dense(512, activation='relu'))\n",
    "drop_network.add(layers.Dropout(0.5))\n",
    "drop_network.add(layers.Dense(10, activation='softmax'))"
   ]
  },
  {
   "cell_type": "code",
   "execution_count": 23,
   "metadata": {},
   "outputs": [
    {
     "name": "stdout",
     "output_type": "stream",
     "text": [
      "Train on 50000 samples, validate on 10000 samples\n",
      "Epoch 1/200\n",
      "50000/50000 [==============================] - 3s 65us/step - loss: 0.7156 - acc: 0.7629 - val_loss: 0.2304 - val_acc: 0.9318\n",
      "Epoch 2/200\n",
      "50000/50000 [==============================] - 3s 58us/step - loss: 0.2611 - acc: 0.9245 - val_loss: 0.1437 - val_acc: 0.9584\n",
      "Epoch 3/200\n",
      "50000/50000 [==============================] - 3s 57us/step - loss: 0.1982 - acc: 0.9434 - val_loss: 0.1228 - val_acc: 0.9641\n",
      "Epoch 4/200\n",
      "50000/50000 [==============================] - 3s 55us/step - loss: 0.1645 - acc: 0.9528 - val_loss: 0.1045 - val_acc: 0.9686\n",
      "Epoch 5/200\n",
      "50000/50000 [==============================] - 3s 55us/step - loss: 0.1405 - acc: 0.9595 - val_loss: 0.0992 - val_acc: 0.9712\n",
      "Epoch 6/200\n",
      "50000/50000 [==============================] - 3s 54us/step - loss: 0.1279 - acc: 0.9646 - val_loss: 0.0941 - val_acc: 0.9739\n",
      "Epoch 7/200\n",
      "50000/50000 [==============================] - 3s 53us/step - loss: 0.1208 - acc: 0.9663 - val_loss: 0.0961 - val_acc: 0.9739\n",
      "Epoch 8/200\n",
      "50000/50000 [==============================] - 3s 53us/step - loss: 0.1057 - acc: 0.9706 - val_loss: 0.0841 - val_acc: 0.9762\n",
      "Epoch 9/200\n",
      "50000/50000 [==============================] - 3s 54us/step - loss: 0.0986 - acc: 0.9722 - val_loss: 0.0898 - val_acc: 0.9748\n",
      "Epoch 10/200\n",
      "50000/50000 [==============================] - 3s 54us/step - loss: 0.0960 - acc: 0.9727 - val_loss: 0.0768 - val_acc: 0.9795\n",
      "Epoch 11/200\n",
      "50000/50000 [==============================] - 3s 54us/step - loss: 0.0852 - acc: 0.9759 - val_loss: 0.0756 - val_acc: 0.9803\n",
      "Epoch 12/200\n",
      "50000/50000 [==============================] - 3s 55us/step - loss: 0.0890 - acc: 0.9760 - val_loss: 0.0788 - val_acc: 0.9784\n",
      "Epoch 13/200\n",
      "50000/50000 [==============================] - 3s 54us/step - loss: 0.0819 - acc: 0.9783 - val_loss: 0.0782 - val_acc: 0.9796\n",
      "Epoch 14/200\n",
      "50000/50000 [==============================] - 3s 56us/step - loss: 0.0784 - acc: 0.9785 - val_loss: 0.0750 - val_acc: 0.9804\n",
      "Epoch 15/200\n",
      "50000/50000 [==============================] - 3s 57us/step - loss: 0.0745 - acc: 0.9793 - val_loss: 0.0827 - val_acc: 0.9799\n",
      "Epoch 16/200\n",
      "50000/50000 [==============================] - 3s 56us/step - loss: 0.0757 - acc: 0.9796 - val_loss: 0.0791 - val_acc: 0.9804\n",
      "Epoch 17/200\n",
      "50000/50000 [==============================] - 3s 57us/step - loss: 0.0693 - acc: 0.9808 - val_loss: 0.0785 - val_acc: 0.9813\n",
      "Epoch 18/200\n",
      "50000/50000 [==============================] - 3s 56us/step - loss: 0.0696 - acc: 0.9812 - val_loss: 0.0790 - val_acc: 0.9813\n",
      "Epoch 19/200\n",
      "50000/50000 [==============================] - 3s 56us/step - loss: 0.0666 - acc: 0.9825 - val_loss: 0.0870 - val_acc: 0.9820\n",
      "Epoch 20/200\n",
      "50000/50000 [==============================] - 3s 56us/step - loss: 0.0671 - acc: 0.9830 - val_loss: 0.0771 - val_acc: 0.9819\n",
      "Epoch 21/200\n",
      "50000/50000 [==============================] - 3s 57us/step - loss: 0.0633 - acc: 0.9835 - val_loss: 0.0771 - val_acc: 0.9817\n",
      "Epoch 22/200\n",
      "50000/50000 [==============================] - 3s 57us/step - loss: 0.0632 - acc: 0.9840 - val_loss: 0.0808 - val_acc: 0.9817\n",
      "Epoch 23/200\n",
      "50000/50000 [==============================] - 3s 56us/step - loss: 0.0642 - acc: 0.9830 - val_loss: 0.0819 - val_acc: 0.9820\n",
      "Epoch 24/200\n",
      "50000/50000 [==============================] - 3s 56us/step - loss: 0.0606 - acc: 0.9850 - val_loss: 0.0865 - val_acc: 0.9801\n",
      "Epoch 25/200\n",
      "50000/50000 [==============================] - 3s 55us/step - loss: 0.0598 - acc: 0.9849 - val_loss: 0.0894 - val_acc: 0.9814\n",
      "Epoch 26/200\n",
      "50000/50000 [==============================] - 3s 54us/step - loss: 0.0596 - acc: 0.9843 - val_loss: 0.0868 - val_acc: 0.9809\n",
      "Epoch 27/200\n",
      "50000/50000 [==============================] - 3s 53us/step - loss: 0.0571 - acc: 0.9853 - val_loss: 0.0822 - val_acc: 0.9815\n",
      "Epoch 28/200\n",
      "50000/50000 [==============================] - 3s 53us/step - loss: 0.0614 - acc: 0.9852 - val_loss: 0.0831 - val_acc: 0.9827\n",
      "Epoch 29/200\n",
      "50000/50000 [==============================] - 3s 53us/step - loss: 0.0590 - acc: 0.9855 - val_loss: 0.0838 - val_acc: 0.9820\n",
      "Epoch 30/200\n",
      "50000/50000 [==============================] - 3s 53us/step - loss: 0.0558 - acc: 0.9859 - val_loss: 0.0856 - val_acc: 0.9816\n",
      "Epoch 31/200\n",
      "50000/50000 [==============================] - 3s 55us/step - loss: 0.0571 - acc: 0.9866 - val_loss: 0.0828 - val_acc: 0.9829\n",
      "Epoch 32/200\n",
      "50000/50000 [==============================] - 3s 55us/step - loss: 0.0519 - acc: 0.9869 - val_loss: 0.0926 - val_acc: 0.9815\n",
      "Epoch 33/200\n",
      "50000/50000 [==============================] - 3s 55us/step - loss: 0.0547 - acc: 0.9869 - val_loss: 0.0849 - val_acc: 0.9837\n",
      "Epoch 34/200\n",
      "50000/50000 [==============================] - 3s 55us/step - loss: 0.0581 - acc: 0.9864 - val_loss: 0.0809 - val_acc: 0.9832\n",
      "Epoch 35/200\n",
      "50000/50000 [==============================] - 3s 56us/step - loss: 0.0557 - acc: 0.9865 - val_loss: 0.0882 - val_acc: 0.9818\n",
      "Epoch 36/200\n",
      "50000/50000 [==============================] - 3s 56us/step - loss: 0.0542 - acc: 0.9874 - val_loss: 0.0821 - val_acc: 0.9827\n",
      "Epoch 37/200\n",
      "50000/50000 [==============================] - 3s 57us/step - loss: 0.0529 - acc: 0.9878 - val_loss: 0.0841 - val_acc: 0.9832\n",
      "Epoch 38/200\n",
      "50000/50000 [==============================] - 3s 57us/step - loss: 0.0527 - acc: 0.9882 - val_loss: 0.0886 - val_acc: 0.9832\n",
      "Epoch 39/200\n",
      "50000/50000 [==============================] - 3s 56us/step - loss: 0.0569 - acc: 0.9868 - val_loss: 0.0921 - val_acc: 0.9834\n",
      "Epoch 40/200\n",
      "50000/50000 [==============================] - 3s 56us/step - loss: 0.0520 - acc: 0.9877 - val_loss: 0.0919 - val_acc: 0.9835\n",
      "Epoch 41/200\n",
      "50000/50000 [==============================] - 3s 56us/step - loss: 0.0543 - acc: 0.9880 - val_loss: 0.0944 - val_acc: 0.9819\n",
      "Epoch 42/200\n",
      "50000/50000 [==============================] - 3s 56us/step - loss: 0.0533 - acc: 0.9870 - val_loss: 0.0932 - val_acc: 0.9833\n",
      "Epoch 43/200\n",
      "50000/50000 [==============================] - 3s 55us/step - loss: 0.0509 - acc: 0.9881 - val_loss: 0.0953 - val_acc: 0.9823\n",
      "Epoch 44/200\n",
      "50000/50000 [==============================] - 3s 57us/step - loss: 0.0506 - acc: 0.9882 - val_loss: 0.0999 - val_acc: 0.9831\n",
      "Epoch 45/200\n",
      "50000/50000 [==============================] - 3s 57us/step - loss: 0.0472 - acc: 0.9889 - val_loss: 0.0946 - val_acc: 0.9830\n",
      "Epoch 46/200\n",
      "50000/50000 [==============================] - 3s 57us/step - loss: 0.0516 - acc: 0.9886 - val_loss: 0.0913 - val_acc: 0.9833\n",
      "Epoch 47/200\n",
      "50000/50000 [==============================] - 3s 56us/step - loss: 0.0459 - acc: 0.9891 - val_loss: 0.0910 - val_acc: 0.9846\n",
      "Epoch 48/200\n",
      "50000/50000 [==============================] - 3s 57us/step - loss: 0.0505 - acc: 0.9882 - val_loss: 0.0972 - val_acc: 0.9835\n",
      "Epoch 49/200\n",
      "50000/50000 [==============================] - 3s 58us/step - loss: 0.0526 - acc: 0.9891 - val_loss: 0.0891 - val_acc: 0.9833\n",
      "Epoch 50/200\n",
      "50000/50000 [==============================] - 3s 58us/step - loss: 0.0522 - acc: 0.9889 - val_loss: 0.0900 - val_acc: 0.9833\n",
      "Epoch 51/200\n",
      "50000/50000 [==============================] - 3s 55us/step - loss: 0.0534 - acc: 0.9884 - val_loss: 0.0921 - val_acc: 0.9836\n",
      "Epoch 52/200\n",
      "50000/50000 [==============================] - 3s 55us/step - loss: 0.0535 - acc: 0.9887 - val_loss: 0.0972 - val_acc: 0.9836\n",
      "Epoch 53/200\n",
      "50000/50000 [==============================] - 3s 57us/step - loss: 0.0495 - acc: 0.9886 - val_loss: 0.0972 - val_acc: 0.9831\n",
      "Epoch 54/200\n",
      "50000/50000 [==============================] - 3s 57us/step - loss: 0.0486 - acc: 0.9897 - val_loss: 0.1036 - val_acc: 0.9817\n",
      "Epoch 55/200\n",
      "50000/50000 [==============================] - 3s 56us/step - loss: 0.0500 - acc: 0.9896 - val_loss: 0.0963 - val_acc: 0.9838\n",
      "Epoch 56/200\n",
      "50000/50000 [==============================] - 3s 55us/step - loss: 0.0451 - acc: 0.9898 - val_loss: 0.1030 - val_acc: 0.9846\n",
      "Epoch 57/200\n",
      "50000/50000 [==============================] - 3s 54us/step - loss: 0.0481 - acc: 0.9906 - val_loss: 0.1056 - val_acc: 0.9828\n",
      "Epoch 58/200\n",
      "50000/50000 [==============================] - 3s 56us/step - loss: 0.0506 - acc: 0.9901 - val_loss: 0.1047 - val_acc: 0.9827\n",
      "Epoch 59/200\n"
     ]
    },
    {
     "name": "stdout",
     "output_type": "stream",
     "text": [
      "50000/50000 [==============================] - 3s 57us/step - loss: 0.0570 - acc: 0.9891 - val_loss: 0.0958 - val_acc: 0.9829\n",
      "Epoch 60/200\n",
      "50000/50000 [==============================] - 3s 56us/step - loss: 0.0506 - acc: 0.9899 - val_loss: 0.0998 - val_acc: 0.9837\n",
      "Epoch 61/200\n",
      "50000/50000 [==============================] - 3s 58us/step - loss: 0.0504 - acc: 0.9898 - val_loss: 0.0976 - val_acc: 0.9845\n",
      "Epoch 62/200\n",
      "50000/50000 [==============================] - 3s 57us/step - loss: 0.0509 - acc: 0.9889 - val_loss: 0.1011 - val_acc: 0.9844\n",
      "Epoch 63/200\n",
      "50000/50000 [==============================] - 3s 56us/step - loss: 0.0465 - acc: 0.9906 - val_loss: 0.1036 - val_acc: 0.9835\n",
      "Epoch 64/200\n",
      "50000/50000 [==============================] - 3s 57us/step - loss: 0.0499 - acc: 0.9906 - val_loss: 0.1015 - val_acc: 0.9837\n",
      "Epoch 65/200\n",
      "50000/50000 [==============================] - 3s 59us/step - loss: 0.0498 - acc: 0.9906 - val_loss: 0.1025 - val_acc: 0.9831\n",
      "Epoch 66/200\n",
      "50000/50000 [==============================] - 3s 58us/step - loss: 0.0512 - acc: 0.9896 - val_loss: 0.1008 - val_acc: 0.9837\n",
      "Epoch 67/200\n",
      "50000/50000 [==============================] - 3s 56us/step - loss: 0.0532 - acc: 0.9895 - val_loss: 0.0957 - val_acc: 0.9828\n",
      "Epoch 68/200\n",
      "50000/50000 [==============================] - 3s 56us/step - loss: 0.0517 - acc: 0.9899 - val_loss: 0.1047 - val_acc: 0.9838\n",
      "Epoch 69/200\n",
      "50000/50000 [==============================] - 3s 55us/step - loss: 0.0558 - acc: 0.9896 - val_loss: 0.1084 - val_acc: 0.9830\n",
      "Epoch 70/200\n",
      "50000/50000 [==============================] - 3s 55us/step - loss: 0.0497 - acc: 0.9905 - val_loss: 0.1077 - val_acc: 0.9830\n",
      "Epoch 71/200\n",
      "50000/50000 [==============================] - 3s 56us/step - loss: 0.0495 - acc: 0.9910 - val_loss: 0.1021 - val_acc: 0.9834\n",
      "Epoch 72/200\n",
      "50000/50000 [==============================] - 3s 56us/step - loss: 0.0488 - acc: 0.9909 - val_loss: 0.1136 - val_acc: 0.9835\n",
      "Epoch 73/200\n",
      "50000/50000 [==============================] - 3s 56us/step - loss: 0.0498 - acc: 0.9908 - val_loss: 0.1024 - val_acc: 0.9837\n",
      "Epoch 74/200\n",
      "50000/50000 [==============================] - 3s 55us/step - loss: 0.0519 - acc: 0.9899 - val_loss: 0.1067 - val_acc: 0.9838\n",
      "Epoch 75/200\n",
      "50000/50000 [==============================] - 3s 54us/step - loss: 0.0508 - acc: 0.9912 - val_loss: 0.1069 - val_acc: 0.9834\n",
      "Epoch 76/200\n",
      "50000/50000 [==============================] - 3s 55us/step - loss: 0.0560 - acc: 0.9904 - val_loss: 0.1070 - val_acc: 0.9836\n",
      "Epoch 77/200\n",
      "50000/50000 [==============================] - 3s 55us/step - loss: 0.0490 - acc: 0.9908 - val_loss: 0.1077 - val_acc: 0.9848\n",
      "Epoch 78/200\n",
      "50000/50000 [==============================] - 3s 55us/step - loss: 0.0543 - acc: 0.9909 - val_loss: 0.1153 - val_acc: 0.9839\n",
      "Epoch 79/200\n",
      "50000/50000 [==============================] - 3s 58us/step - loss: 0.0545 - acc: 0.9911 - val_loss: 0.1085 - val_acc: 0.9844\n",
      "Epoch 80/200\n",
      "50000/50000 [==============================] - 3s 60us/step - loss: 0.0493 - acc: 0.9911 - val_loss: 0.1158 - val_acc: 0.9834\n",
      "Epoch 81/200\n",
      "50000/50000 [==============================] - 3s 63us/step - loss: 0.0524 - acc: 0.9910 - val_loss: 0.1030 - val_acc: 0.9843\n",
      "Epoch 82/200\n",
      "50000/50000 [==============================] - 3s 58us/step - loss: 0.0521 - acc: 0.9909 - val_loss: 0.1089 - val_acc: 0.9833\n",
      "Epoch 83/200\n",
      "50000/50000 [==============================] - 3s 62us/step - loss: 0.0519 - acc: 0.9910 - val_loss: 0.1148 - val_acc: 0.9831\n",
      "Epoch 84/200\n",
      "50000/50000 [==============================] - 3s 65us/step - loss: 0.0509 - acc: 0.9909 - val_loss: 0.1098 - val_acc: 0.9850\n",
      "Epoch 85/200\n",
      "50000/50000 [==============================] - 3s 64us/step - loss: 0.0542 - acc: 0.9913 - val_loss: 0.1187 - val_acc: 0.9824\n",
      "Epoch 86/200\n",
      "50000/50000 [==============================] - 3s 62us/step - loss: 0.0562 - acc: 0.9902 - val_loss: 0.1136 - val_acc: 0.9824\n",
      "Epoch 87/200\n",
      "50000/50000 [==============================] - 3s 62us/step - loss: 0.0550 - acc: 0.9907 - val_loss: 0.1173 - val_acc: 0.9839\n",
      "Epoch 88/200\n",
      "50000/50000 [==============================] - 3s 64us/step - loss: 0.0525 - acc: 0.9911 - val_loss: 0.1193 - val_acc: 0.9824\n",
      "Epoch 89/200\n",
      "50000/50000 [==============================] - 3s 62us/step - loss: 0.0579 - acc: 0.9903 - val_loss: 0.1164 - val_acc: 0.9833\n",
      "Epoch 90/200\n",
      "50000/50000 [==============================] - 3s 59us/step - loss: 0.0548 - acc: 0.9905 - val_loss: 0.1262 - val_acc: 0.9829\n",
      "Epoch 91/200\n",
      "50000/50000 [==============================] - 3s 59us/step - loss: 0.0522 - acc: 0.9910 - val_loss: 0.1290 - val_acc: 0.9819\n",
      "Epoch 92/200\n",
      "50000/50000 [==============================] - 3s 60us/step - loss: 0.0557 - acc: 0.9908 - val_loss: 0.1260 - val_acc: 0.9837\n",
      "Epoch 93/200\n",
      "50000/50000 [==============================] - 3s 59us/step - loss: 0.0542 - acc: 0.9910 - val_loss: 0.1143 - val_acc: 0.9841\n",
      "Epoch 94/200\n",
      "50000/50000 [==============================] - 3s 58us/step - loss: 0.0489 - acc: 0.9917 - val_loss: 0.1242 - val_acc: 0.9831\n",
      "Epoch 95/200\n",
      "50000/50000 [==============================] - 3s 59us/step - loss: 0.0554 - acc: 0.9909 - val_loss: 0.1092 - val_acc: 0.9835\n",
      "Epoch 96/200\n",
      "50000/50000 [==============================] - 3s 56us/step - loss: 0.0540 - acc: 0.9914 - val_loss: 0.1236 - val_acc: 0.9842\n",
      "Epoch 97/200\n",
      "50000/50000 [==============================] - 3s 56us/step - loss: 0.0569 - acc: 0.9918 - val_loss: 0.1206 - val_acc: 0.9848\n",
      "Epoch 98/200\n",
      "50000/50000 [==============================] - 3s 61us/step - loss: 0.0551 - acc: 0.9909 - val_loss: 0.1179 - val_acc: 0.9843\n",
      "Epoch 99/200\n",
      "50000/50000 [==============================] - 3s 61us/step - loss: 0.0554 - acc: 0.9911 - val_loss: 0.1156 - val_acc: 0.9833\n",
      "Epoch 100/200\n",
      "50000/50000 [==============================] - 3s 62us/step - loss: 0.0568 - acc: 0.9909 - val_loss: 0.1435 - val_acc: 0.9818\n",
      "Epoch 101/200\n",
      "50000/50000 [==============================] - 3s 60us/step - loss: 0.0552 - acc: 0.9917 - val_loss: 0.1446 - val_acc: 0.9836\n",
      "Epoch 102/200\n",
      "50000/50000 [==============================] - 3s 59us/step - loss: 0.0619 - acc: 0.9910 - val_loss: 0.1282 - val_acc: 0.9831\n",
      "Epoch 103/200\n",
      "50000/50000 [==============================] - 3s 60us/step - loss: 0.0548 - acc: 0.9916 - val_loss: 0.1257 - val_acc: 0.9833\n",
      "Epoch 104/200\n",
      "50000/50000 [==============================] - 3s 60us/step - loss: 0.0524 - acc: 0.9916 - val_loss: 0.1320 - val_acc: 0.9820\n",
      "Epoch 105/200\n",
      "50000/50000 [==============================] - 3s 61us/step - loss: 0.0580 - acc: 0.9913 - val_loss: 0.1264 - val_acc: 0.9829\n",
      "Epoch 106/200\n",
      "50000/50000 [==============================] - 3s 62us/step - loss: 0.0574 - acc: 0.9910 - val_loss: 0.1379 - val_acc: 0.9825\n",
      "Epoch 107/200\n",
      "50000/50000 [==============================] - 3s 61us/step - loss: 0.0554 - acc: 0.9908 - val_loss: 0.1389 - val_acc: 0.9820\n",
      "Epoch 108/200\n",
      "50000/50000 [==============================] - 3s 61us/step - loss: 0.0633 - acc: 0.9905 - val_loss: 0.1294 - val_acc: 0.9823\n",
      "Epoch 109/200\n",
      "50000/50000 [==============================] - 3s 60us/step - loss: 0.0536 - acc: 0.9908 - val_loss: 0.1294 - val_acc: 0.9826\n",
      "Epoch 110/200\n",
      "50000/50000 [==============================] - 3s 60us/step - loss: 0.0583 - acc: 0.9907 - val_loss: 0.1334 - val_acc: 0.9843\n",
      "Epoch 111/200\n",
      "50000/50000 [==============================] - 3s 60us/step - loss: 0.0605 - acc: 0.9907 - val_loss: 0.1244 - val_acc: 0.9834\n",
      "Epoch 112/200\n",
      "50000/50000 [==============================] - 3s 58us/step - loss: 0.0614 - acc: 0.9910 - val_loss: 0.1320 - val_acc: 0.9850\n",
      "Epoch 113/200\n",
      "50000/50000 [==============================] - 3s 58us/step - loss: 0.0621 - acc: 0.9907 - val_loss: 0.1289 - val_acc: 0.9819\n",
      "Epoch 114/200\n",
      "50000/50000 [==============================] - 3s 57us/step - loss: 0.0616 - acc: 0.9907 - val_loss: 0.1254 - val_acc: 0.9846\n",
      "Epoch 115/200\n",
      "50000/50000 [==============================] - 3s 58us/step - loss: 0.0644 - acc: 0.9913 - val_loss: 0.1387 - val_acc: 0.9835\n",
      "Epoch 116/200\n",
      "50000/50000 [==============================] - 3s 57us/step - loss: 0.0599 - acc: 0.9912 - val_loss: 0.1233 - val_acc: 0.9836\n",
      "Epoch 117/200\n",
      "50000/50000 [==============================] - 3s 58us/step - loss: 0.0541 - acc: 0.9919 - val_loss: 0.1317 - val_acc: 0.9843\n"
     ]
    },
    {
     "name": "stdout",
     "output_type": "stream",
     "text": [
      "Epoch 118/200\n",
      "50000/50000 [==============================] - 3s 59us/step - loss: 0.0636 - acc: 0.9908 - val_loss: 0.1304 - val_acc: 0.9834\n",
      "Epoch 119/200\n",
      "50000/50000 [==============================] - 3s 59us/step - loss: 0.0622 - acc: 0.9911 - val_loss: 0.1447 - val_acc: 0.9825\n",
      "Epoch 120/200\n",
      "50000/50000 [==============================] - 3s 61us/step - loss: 0.0610 - acc: 0.9916 - val_loss: 0.1400 - val_acc: 0.9845\n",
      "Epoch 121/200\n",
      "50000/50000 [==============================] - 3s 62us/step - loss: 0.0647 - acc: 0.9915 - val_loss: 0.1327 - val_acc: 0.9837\n",
      "Epoch 122/200\n",
      "50000/50000 [==============================] - 3s 63us/step - loss: 0.0558 - acc: 0.9921 - val_loss: 0.1376 - val_acc: 0.9835\n",
      "Epoch 123/200\n",
      "50000/50000 [==============================] - 3s 62us/step - loss: 0.0658 - acc: 0.9908 - val_loss: 0.1373 - val_acc: 0.9835\n",
      "Epoch 124/200\n",
      "50000/50000 [==============================] - 3s 60us/step - loss: 0.0632 - acc: 0.9916 - val_loss: 0.1417 - val_acc: 0.9829\n",
      "Epoch 125/200\n",
      "50000/50000 [==============================] - 3s 62us/step - loss: 0.0591 - acc: 0.9912 - val_loss: 0.1495 - val_acc: 0.9822\n",
      "Epoch 126/200\n",
      "50000/50000 [==============================] - 3s 62us/step - loss: 0.0634 - acc: 0.9912 - val_loss: 0.1376 - val_acc: 0.9829\n",
      "Epoch 127/200\n",
      "50000/50000 [==============================] - 3s 60us/step - loss: 0.0656 - acc: 0.9908 - val_loss: 0.1339 - val_acc: 0.9844\n",
      "Epoch 128/200\n",
      "50000/50000 [==============================] - 3s 61us/step - loss: 0.0543 - acc: 0.9919 - val_loss: 0.1427 - val_acc: 0.9843\n",
      "Epoch 129/200\n",
      "50000/50000 [==============================] - 3s 60us/step - loss: 0.0669 - acc: 0.9911 - val_loss: 0.1340 - val_acc: 0.9847\n",
      "Epoch 130/200\n",
      "50000/50000 [==============================] - 3s 60us/step - loss: 0.0585 - acc: 0.9921 - val_loss: 0.1544 - val_acc: 0.9833\n",
      "Epoch 131/200\n",
      "50000/50000 [==============================] - 3s 59us/step - loss: 0.0636 - acc: 0.9915 - val_loss: 0.1453 - val_acc: 0.9832\n",
      "Epoch 132/200\n",
      "50000/50000 [==============================] - 3s 60us/step - loss: 0.0632 - acc: 0.9919 - val_loss: 0.1548 - val_acc: 0.9830\n",
      "Epoch 133/200\n",
      "50000/50000 [==============================] - 3s 61us/step - loss: 0.0644 - acc: 0.9914 - val_loss: 0.1417 - val_acc: 0.9836\n",
      "Epoch 134/200\n",
      "50000/50000 [==============================] - 3s 58us/step - loss: 0.0644 - acc: 0.9919 - val_loss: 0.1541 - val_acc: 0.9839\n",
      "Epoch 135/200\n",
      "50000/50000 [==============================] - 3s 57us/step - loss: 0.0717 - acc: 0.9904 - val_loss: 0.1433 - val_acc: 0.9838\n",
      "Epoch 136/200\n",
      "50000/50000 [==============================] - 3s 57us/step - loss: 0.0660 - acc: 0.9915 - val_loss: 0.1566 - val_acc: 0.9824\n",
      "Epoch 137/200\n",
      "50000/50000 [==============================] - 3s 56us/step - loss: 0.0620 - acc: 0.9916 - val_loss: 0.1486 - val_acc: 0.9836\n",
      "Epoch 138/200\n",
      "50000/50000 [==============================] - 3s 57us/step - loss: 0.0634 - acc: 0.9919 - val_loss: 0.1497 - val_acc: 0.9831\n",
      "Epoch 139/200\n",
      "50000/50000 [==============================] - 3s 60us/step - loss: 0.0550 - acc: 0.9926 - val_loss: 0.1435 - val_acc: 0.9848\n",
      "Epoch 140/200\n",
      "50000/50000 [==============================] - 3s 61us/step - loss: 0.0636 - acc: 0.9917 - val_loss: 0.1482 - val_acc: 0.9844\n",
      "Epoch 141/200\n",
      "50000/50000 [==============================] - 3s 61us/step - loss: 0.0630 - acc: 0.9917 - val_loss: 0.1556 - val_acc: 0.9838\n",
      "Epoch 142/200\n",
      "50000/50000 [==============================] - 3s 61us/step - loss: 0.0630 - acc: 0.9922 - val_loss: 0.1495 - val_acc: 0.9847\n",
      "Epoch 143/200\n",
      "50000/50000 [==============================] - 3s 60us/step - loss: 0.0676 - acc: 0.9916 - val_loss: 0.1489 - val_acc: 0.9840\n",
      "Epoch 144/200\n",
      "50000/50000 [==============================] - 3s 58us/step - loss: 0.0764 - acc: 0.9908 - val_loss: 0.1594 - val_acc: 0.9838\n",
      "Epoch 145/200\n",
      "50000/50000 [==============================] - 3s 61us/step - loss: 0.0643 - acc: 0.9918 - val_loss: 0.1479 - val_acc: 0.9840\n",
      "Epoch 146/200\n",
      "50000/50000 [==============================] - 3s 62us/step - loss: 0.0674 - acc: 0.9919 - val_loss: 0.1536 - val_acc: 0.9832\n",
      "Epoch 147/200\n",
      "50000/50000 [==============================] - 3s 60us/step - loss: 0.0612 - acc: 0.9917 - val_loss: 0.1538 - val_acc: 0.9851\n",
      "Epoch 148/200\n",
      "50000/50000 [==============================] - 3s 61us/step - loss: 0.0699 - acc: 0.9913 - val_loss: 0.1418 - val_acc: 0.9842\n",
      "Epoch 149/200\n",
      "50000/50000 [==============================] - 3s 59us/step - loss: 0.0633 - acc: 0.9916 - val_loss: 0.1497 - val_acc: 0.9837\n",
      "Epoch 150/200\n",
      "50000/50000 [==============================] - 3s 57us/step - loss: 0.0714 - acc: 0.9912 - val_loss: 0.1408 - val_acc: 0.9837\n",
      "Epoch 151/200\n",
      "50000/50000 [==============================] - 3s 56us/step - loss: 0.0702 - acc: 0.9910 - val_loss: 0.1424 - val_acc: 0.9836\n",
      "Epoch 152/200\n",
      "50000/50000 [==============================] - 3s 58us/step - loss: 0.0626 - acc: 0.9914 - val_loss: 0.1480 - val_acc: 0.9829\n",
      "Epoch 153/200\n",
      "50000/50000 [==============================] - 3s 58us/step - loss: 0.0595 - acc: 0.9920 - val_loss: 0.1528 - val_acc: 0.9842\n",
      "Epoch 154/200\n",
      "50000/50000 [==============================] - 3s 58us/step - loss: 0.0709 - acc: 0.9918 - val_loss: 0.1603 - val_acc: 0.9844\n",
      "Epoch 155/200\n",
      "50000/50000 [==============================] - 3s 58us/step - loss: 0.0740 - acc: 0.9916 - val_loss: 0.1455 - val_acc: 0.9838\n",
      "Epoch 156/200\n",
      "50000/50000 [==============================] - 3s 57us/step - loss: 0.0681 - acc: 0.9915 - val_loss: 0.1612 - val_acc: 0.9833\n",
      "Epoch 157/200\n",
      "50000/50000 [==============================] - 3s 57us/step - loss: 0.0849 - acc: 0.9906 - val_loss: 0.1479 - val_acc: 0.9843\n",
      "Epoch 158/200\n",
      "50000/50000 [==============================] - 3s 57us/step - loss: 0.0675 - acc: 0.9914 - val_loss: 0.1460 - val_acc: 0.9836\n",
      "Epoch 159/200\n",
      "50000/50000 [==============================] - 3s 59us/step - loss: 0.0690 - acc: 0.9916 - val_loss: 0.1438 - val_acc: 0.9840\n",
      "Epoch 160/200\n",
      "50000/50000 [==============================] - 3s 60us/step - loss: 0.0681 - acc: 0.9924 - val_loss: 0.1683 - val_acc: 0.9840\n",
      "Epoch 161/200\n",
      "50000/50000 [==============================] - 3s 60us/step - loss: 0.0718 - acc: 0.9912 - val_loss: 0.1527 - val_acc: 0.9844\n",
      "Epoch 162/200\n",
      "50000/50000 [==============================] - 3s 59us/step - loss: 0.0689 - acc: 0.9915 - val_loss: 0.1583 - val_acc: 0.9850\n",
      "Epoch 163/200\n",
      "50000/50000 [==============================] - 3s 59us/step - loss: 0.0677 - acc: 0.9926 - val_loss: 0.1560 - val_acc: 0.9839\n",
      "Epoch 164/200\n",
      "50000/50000 [==============================] - 3s 59us/step - loss: 0.0589 - acc: 0.9929 - val_loss: 0.1686 - val_acc: 0.9824\n",
      "Epoch 165/200\n",
      "50000/50000 [==============================] - 3s 60us/step - loss: 0.0711 - acc: 0.9918 - val_loss: 0.1599 - val_acc: 0.9835\n",
      "Epoch 166/200\n",
      "50000/50000 [==============================] - 3s 59us/step - loss: 0.0787 - acc: 0.9915 - val_loss: 0.1714 - val_acc: 0.9833\n",
      "Epoch 167/200\n",
      "50000/50000 [==============================] - 3s 60us/step - loss: 0.0790 - acc: 0.9909 - val_loss: 0.1638 - val_acc: 0.9835\n",
      "Epoch 168/200\n",
      "50000/50000 [==============================] - 3s 60us/step - loss: 0.0737 - acc: 0.9913 - val_loss: 0.1568 - val_acc: 0.9832\n",
      "Epoch 169/200\n",
      "50000/50000 [==============================] - 3s 57us/step - loss: 0.0742 - acc: 0.9915 - val_loss: 0.1581 - val_acc: 0.9837\n",
      "Epoch 170/200\n",
      "50000/50000 [==============================] - 3s 56us/step - loss: 0.0760 - acc: 0.9915 - val_loss: 0.1718 - val_acc: 0.9815\n",
      "Epoch 171/200\n",
      "50000/50000 [==============================] - 3s 59us/step - loss: 0.0685 - acc: 0.9917 - val_loss: 0.1642 - val_acc: 0.9837\n",
      "Epoch 172/200\n",
      "50000/50000 [==============================] - 3s 58us/step - loss: 0.0718 - acc: 0.9914 - val_loss: 0.1682 - val_acc: 0.9824\n",
      "Epoch 173/200\n",
      "50000/50000 [==============================] - 3s 57us/step - loss: 0.0725 - acc: 0.9916 - val_loss: 0.1690 - val_acc: 0.9832\n",
      "Epoch 174/200\n",
      "50000/50000 [==============================] - 3s 58us/step - loss: 0.0831 - acc: 0.9911 - val_loss: 0.1743 - val_acc: 0.9826\n",
      "Epoch 175/200\n",
      "50000/50000 [==============================] - 3s 56us/step - loss: 0.0786 - acc: 0.9916 - val_loss: 0.1604 - val_acc: 0.9832\n",
      "Epoch 176/200\n"
     ]
    },
    {
     "name": "stdout",
     "output_type": "stream",
     "text": [
      "50000/50000 [==============================] - 3s 55us/step - loss: 0.0828 - acc: 0.9910 - val_loss: 0.1534 - val_acc: 0.9840\n",
      "Epoch 177/200\n",
      "50000/50000 [==============================] - 3s 57us/step - loss: 0.0714 - acc: 0.9917 - val_loss: 0.1756 - val_acc: 0.9834\n",
      "Epoch 178/200\n",
      "50000/50000 [==============================] - 3s 57us/step - loss: 0.0806 - acc: 0.9913 - val_loss: 0.1712 - val_acc: 0.9841\n",
      "Epoch 179/200\n",
      "50000/50000 [==============================] - 3s 57us/step - loss: 0.0792 - acc: 0.9915 - val_loss: 0.1747 - val_acc: 0.9842\n",
      "Epoch 180/200\n",
      "50000/50000 [==============================] - 3s 58us/step - loss: 0.0795 - acc: 0.9906 - val_loss: 0.1671 - val_acc: 0.9836\n",
      "Epoch 181/200\n",
      "50000/50000 [==============================] - 3s 58us/step - loss: 0.0772 - acc: 0.9911 - val_loss: 0.1588 - val_acc: 0.9845\n",
      "Epoch 182/200\n",
      "50000/50000 [==============================] - 3s 58us/step - loss: 0.0764 - acc: 0.9915 - val_loss: 0.1569 - val_acc: 0.9831\n",
      "Epoch 183/200\n",
      "50000/50000 [==============================] - 3s 59us/step - loss: 0.0730 - acc: 0.9915 - val_loss: 0.1613 - val_acc: 0.9840\n",
      "Epoch 184/200\n",
      "50000/50000 [==============================] - 3s 61us/step - loss: 0.0858 - acc: 0.9908 - val_loss: 0.1630 - val_acc: 0.9833\n",
      "Epoch 185/200\n",
      "50000/50000 [==============================] - 3s 62us/step - loss: 0.0770 - acc: 0.9912 - val_loss: 0.1689 - val_acc: 0.9830\n",
      "Epoch 186/200\n",
      "50000/50000 [==============================] - 3s 59us/step - loss: 0.0778 - acc: 0.9919 - val_loss: 0.1675 - val_acc: 0.9827\n",
      "Epoch 187/200\n",
      "50000/50000 [==============================] - 3s 59us/step - loss: 0.0701 - acc: 0.9925 - val_loss: 0.1750 - val_acc: 0.9841\n",
      "Epoch 188/200\n",
      "50000/50000 [==============================] - 3s 60us/step - loss: 0.0889 - acc: 0.9904 - val_loss: 0.1751 - val_acc: 0.9837\n",
      "Epoch 189/200\n",
      "50000/50000 [==============================] - 3s 59us/step - loss: 0.0795 - acc: 0.9916 - val_loss: 0.1710 - val_acc: 0.9842\n",
      "Epoch 190/200\n",
      "50000/50000 [==============================] - 3s 58us/step - loss: 0.0836 - acc: 0.9911 - val_loss: 0.1802 - val_acc: 0.9827\n",
      "Epoch 191/200\n",
      "50000/50000 [==============================] - 3s 58us/step - loss: 0.0874 - acc: 0.9909 - val_loss: 0.1720 - val_acc: 0.9834\n",
      "Epoch 192/200\n",
      "50000/50000 [==============================] - 3s 58us/step - loss: 0.0846 - acc: 0.9908 - val_loss: 0.1578 - val_acc: 0.9838\n",
      "Epoch 193/200\n",
      "50000/50000 [==============================] - 3s 58us/step - loss: 0.0776 - acc: 0.9919 - val_loss: 0.1662 - val_acc: 0.9832\n",
      "Epoch 194/200\n",
      "50000/50000 [==============================] - 3s 58us/step - loss: 0.0768 - acc: 0.9915 - val_loss: 0.1655 - val_acc: 0.9847\n",
      "Epoch 195/200\n",
      "50000/50000 [==============================] - 3s 58us/step - loss: 0.0737 - acc: 0.9920 - val_loss: 0.1789 - val_acc: 0.9841\n",
      "Epoch 196/200\n",
      "50000/50000 [==============================] - 3s 55us/step - loss: 0.0835 - acc: 0.9916 - val_loss: 0.1756 - val_acc: 0.9832\n",
      "Epoch 197/200\n",
      "50000/50000 [==============================] - 3s 55us/step - loss: 0.0815 - acc: 0.9912 - val_loss: 0.1770 - val_acc: 0.9824\n",
      "Epoch 198/200\n",
      "50000/50000 [==============================] - 3s 56us/step - loss: 0.0921 - acc: 0.9903 - val_loss: 0.1747 - val_acc: 0.9829\n",
      "Epoch 199/200\n",
      "50000/50000 [==============================] - 3s 56us/step - loss: 0.0732 - acc: 0.9920 - val_loss: 0.1685 - val_acc: 0.9832\n",
      "Epoch 200/200\n",
      "50000/50000 [==============================] - 3s 56us/step - loss: 0.0885 - acc: 0.9912 - val_loss: 0.1725 - val_acc: 0.9824\n"
     ]
    }
   ],
   "source": [
    "drop_network.compile(optimizer='rmsprop',\n",
    "                loss='categorical_crossentropy',\n",
    "                metrics=['accuracy'])\n",
    "history2 = drop_network.fit(X_train, \n",
    "                      y_train, \n",
    "                      epochs=200, \n",
    "                      batch_size=512,\n",
    "                      validation_data=(X_val, y_val))"
   ]
  },
  {
   "cell_type": "code",
   "execution_count": 31,
   "metadata": {},
   "outputs": [
    {
     "data": {
      "image/png": "[encoded data removed]",
      "text/plain": [
       "<Figure size 432x288 with 1 Axes>"
      ]
     },
     "metadata": {},
     "output_type": "display_data"
    }
   ],
   "source": [
    "# Plotting the validation loss\n",
    "val_loss2 = history2.history['val_loss']\n",
    "plt.plot(epochs, val_loss2, 'b', label='Validation loss')\n",
    "plt.title('Validation loss (dropout rate = 0.5)')\n",
    "plt.xlabel('Epochs')\n",
    "plt.ylabel('Loss')\n",
    "plt.legend()\n",
    "plt.show()"
   ]
  },
  {
   "cell_type": "code",
   "execution_count": 25,
   "metadata": {},
   "outputs": [
    {
     "data": {
      "image/png": "[encoded data removed]",
      "text/plain": [
       "<Figure size 432x288 with 1 Axes>"
      ]
     },
     "metadata": {},
     "output_type": "display_data"
    }
   ],
   "source": [
    "# Plotting the validation accuracy\n",
    "plt.clf() #Clears the figure\n",
    "val_acc2 = history2.history['val_acc']\n",
    "plt.plot(epochs, val_acc2, 'b', label='Validation acc')\n",
    "plt.title('Validation accuracy (dropout rate = 0.5)')\n",
    "plt.xlabel('Epochs')\n",
    "plt.ylabel('Loss')\n",
    "plt.legend()\n",
    "plt.show()"
   ]
  },
  {
   "cell_type": "code",
   "execution_count": 27,
   "metadata": {},
   "outputs": [
    {
     "data": {
      "image/png": "[encoded data removed]",
      "text/plain": [
       "<Figure size 432x288 with 1 Axes>"
      ]
     },
     "metadata": {},
     "output_type": "display_data"
    }
   ],
   "source": [
    "# plot validation accuracy (smooth)\n",
    "smooth_history2 = smooth_curve(val_acc2[10:])\n",
    "plt.plot(range(10, len(epochs)), smooth_history2)\n",
    "plt.xlabel('Epochs')\n",
    "plt.ylabel('Validation accuracy')\n",
    "plt.title('Validation accuracy (dropout rate = 0.5)')\n",
    "plt.show()"
   ]
  },
  {
   "cell_type": "code",
   "execution_count": 28,
   "metadata": {},
   "outputs": [
    {
     "data": {
      "text/plain": [
       "146"
      ]
     },
     "execution_count": 28,
     "metadata": {},
     "output_type": "execute_result"
    }
   ],
   "source": [
    "np.argmax(val_acc2)"
   ]
  },
  {
   "cell_type": "markdown",
   "metadata": {},
   "source": [
    "In the new model, we drop out 50 percent of the input value between two layers to avoid over fitting. The new model obviously performs better than the first model, for the validation accuracy does not fluctuate so much as the first one. And the highest accuracy rate occurs quite late around the 150th epoch (98.51%)."
   ]
  },
  {
   "cell_type": "markdown",
   "metadata": {},
   "source": [
    "*III. Weight regularization*"
   ]
  },
  {
   "cell_type": "code",
   "execution_count": 29,
   "metadata": {},
   "outputs": [],
   "source": [
    "# weight regularization\n",
    "from keras import regularizers\n",
    "\n",
    "l1_network = models.Sequential()\n",
    "l1_network.add(layers.Dense(512, kernel_regularizer=regularizers.l1(0.001), \n",
    "                            activation='relu', input_shape=(28 * 28,)))\n",
    "l1_network.add(layers.Dense(512, kernel_regularizer=regularizers.l1(0.001),\n",
    "                            activation='relu'))\n",
    "l1_network.add(layers.Dense(512, kernel_regularizer=regularizers.l1(0.001),\n",
    "                            activation='relu'))\n",
    "l1_network.add(layers.Dense(512, kernel_regularizer=regularizers.l1(0.001),\n",
    "                            activation='relu'))\n",
    "l1_network.add(layers.Dense(10, activation='softmax'))"
   ]
  },
  {
   "cell_type": "code",
   "execution_count": 30,
   "metadata": {},
   "outputs": [
    {
     "name": "stdout",
     "output_type": "stream",
     "text": [
      "Train on 50000 samples, validate on 10000 samples\n",
      "Epoch 1/200\n",
      "50000/50000 [==============================] - 2s 46us/step - loss: 13.6789 - acc: 0.6732 - val_loss: 4.1708 - val_acc: 0.6681\n",
      "Epoch 2/200\n",
      "50000/50000 [==============================] - 2s 38us/step - loss: 3.0194 - acc: 0.7978 - val_loss: 2.4718 - val_acc: 0.7854\n",
      "Epoch 3/200\n",
      "50000/50000 [==============================] - 2s 38us/step - loss: 2.1766 - acc: 0.8394 - val_loss: 2.2340 - val_acc: 0.7370\n",
      "Epoch 4/200\n",
      "50000/50000 [==============================] - 2s 40us/step - loss: 1.8590 - acc: 0.8620 - val_loss: 1.6861 - val_acc: 0.8919\n",
      "Epoch 5/200\n",
      "50000/50000 [==============================] - 2s 37us/step - loss: 1.6836 - acc: 0.8785 - val_loss: 1.6196 - val_acc: 0.8843\n",
      "Epoch 6/200\n",
      "50000/50000 [==============================] - 2s 37us/step - loss: 1.5666 - acc: 0.8875 - val_loss: 1.5452 - val_acc: 0.8811\n",
      "Epoch 7/200\n",
      "50000/50000 [==============================] - 2s 38us/step - loss: 1.4742 - acc: 0.8977 - val_loss: 1.4276 - val_acc: 0.9007\n",
      "Epoch 8/200\n",
      "50000/50000 [==============================] - 2s 39us/step - loss: 1.4025 - acc: 0.9059 - val_loss: 1.3566 - val_acc: 0.9104\n",
      "Epoch 9/200\n",
      "50000/50000 [==============================] - 2s 38us/step - loss: 1.3390 - acc: 0.9141 - val_loss: 1.3406 - val_acc: 0.9014\n",
      "Epoch 10/200\n",
      "50000/50000 [==============================] - 2s 39us/step - loss: 1.2926 - acc: 0.9180 - val_loss: 1.2709 - val_acc: 0.9230\n",
      "Epoch 11/200\n",
      "50000/50000 [==============================] - 2s 39us/step - loss: 1.2505 - acc: 0.9246 - val_loss: 1.2630 - val_acc: 0.9173\n",
      "Epoch 12/200\n",
      "50000/50000 [==============================] - 2s 38us/step - loss: 1.2164 - acc: 0.9279 - val_loss: 1.2382 - val_acc: 0.9175\n",
      "Epoch 13/200\n",
      "50000/50000 [==============================] - 2s 40us/step - loss: 1.1895 - acc: 0.9342 - val_loss: 1.2403 - val_acc: 0.9141\n",
      "Epoch 14/200\n",
      "50000/50000 [==============================] - 2s 38us/step - loss: 1.1704 - acc: 0.9342 - val_loss: 1.1547 - val_acc: 0.9382\n",
      "Epoch 15/200\n",
      "50000/50000 [==============================] - 2s 39us/step - loss: 1.1510 - acc: 0.9370 - val_loss: 1.1390 - val_acc: 0.9368\n",
      "Epoch 16/200\n",
      "50000/50000 [==============================] - 2s 38us/step - loss: 1.1348 - acc: 0.9390 - val_loss: 1.1434 - val_acc: 0.9317\n",
      "Epoch 17/200\n",
      "50000/50000 [==============================] - 2s 38us/step - loss: 1.1196 - acc: 0.9403 - val_loss: 1.1210 - val_acc: 0.9373\n",
      "Epoch 18/200\n",
      "50000/50000 [==============================] - 2s 38us/step - loss: 1.1057 - acc: 0.9421 - val_loss: 1.1109 - val_acc: 0.9370\n",
      "Epoch 19/200\n",
      "50000/50000 [==============================] - 2s 39us/step - loss: 1.0960 - acc: 0.9421 - val_loss: 1.1022 - val_acc: 0.9416\n",
      "Epoch 20/200\n",
      "50000/50000 [==============================] - 2s 39us/step - loss: 1.0873 - acc: 0.9435 - val_loss: 1.0771 - val_acc: 0.9434\n",
      "Epoch 21/200\n",
      "50000/50000 [==============================] - 2s 39us/step - loss: 1.0735 - acc: 0.9450 - val_loss: 1.0704 - val_acc: 0.9459\n",
      "Epoch 22/200\n",
      "50000/50000 [==============================] - 2s 41us/step - loss: 1.0657 - acc: 0.9458 - val_loss: 1.0805 - val_acc: 0.9384\n",
      "Epoch 23/200\n",
      "50000/50000 [==============================] - 2s 40us/step - loss: 1.0579 - acc: 0.9467 - val_loss: 1.0577 - val_acc: 0.9448\n",
      "Epoch 24/200\n",
      "50000/50000 [==============================] - 2s 40us/step - loss: 1.0475 - acc: 0.9483 - val_loss: 1.0354 - val_acc: 0.9494\n",
      "Epoch 25/200\n",
      "50000/50000 [==============================] - 2s 40us/step - loss: 1.0433 - acc: 0.9475 - val_loss: 1.0233 - val_acc: 0.9534\n",
      "Epoch 26/200\n",
      "50000/50000 [==============================] - 2s 40us/step - loss: 1.0349 - acc: 0.9485 - val_loss: 1.0513 - val_acc: 0.9441\n",
      "Epoch 27/200\n",
      "50000/50000 [==============================] - 2s 40us/step - loss: 1.0286 - acc: 0.9494 - val_loss: 1.0191 - val_acc: 0.9519\n",
      "Epoch 28/200\n",
      "50000/50000 [==============================] - 2s 39us/step - loss: 1.0230 - acc: 0.9504 - val_loss: 1.0699 - val_acc: 0.9306\n",
      "Epoch 29/200\n",
      "50000/50000 [==============================] - 2s 41us/step - loss: 1.0181 - acc: 0.9507 - val_loss: 1.0235 - val_acc: 0.9480\n",
      "Epoch 30/200\n",
      "50000/50000 [==============================] - 2s 40us/step - loss: 1.0141 - acc: 0.9513 - val_loss: 1.0124 - val_acc: 0.9504\n",
      "Epoch 31/200\n",
      "50000/50000 [==============================] - 2s 39us/step - loss: 1.0092 - acc: 0.9515 - val_loss: 1.0158 - val_acc: 0.9493\n",
      "Epoch 32/200\n",
      "50000/50000 [==============================] - 2s 36us/step - loss: 1.0060 - acc: 0.9508 - val_loss: 1.0008 - val_acc: 0.9529\n",
      "Epoch 33/200\n",
      "50000/50000 [==============================] - 2s 37us/step - loss: 0.9988 - acc: 0.9529 - val_loss: 1.0809 - val_acc: 0.9283\n",
      "Epoch 34/200\n",
      "50000/50000 [==============================] - 2s 37us/step - loss: 0.9963 - acc: 0.9526 - val_loss: 1.0095 - val_acc: 0.9450\n",
      "Epoch 35/200\n",
      "50000/50000 [==============================] - 2s 38us/step - loss: 0.9912 - acc: 0.9538 - val_loss: 0.9996 - val_acc: 0.9510\n",
      "Epoch 36/200\n",
      "50000/50000 [==============================] - 2s 36us/step - loss: 0.9895 - acc: 0.9527 - val_loss: 1.0378 - val_acc: 0.9392\n",
      "Epoch 37/200\n",
      "50000/50000 [==============================] - 2s 37us/step - loss: 0.9870 - acc: 0.9520 - val_loss: 0.9759 - val_acc: 0.9552\n",
      "Epoch 38/200\n",
      "50000/50000 [==============================] - 2s 38us/step - loss: 0.9808 - acc: 0.9548 - val_loss: 1.0565 - val_acc: 0.9269\n",
      "Epoch 39/200\n",
      "50000/50000 [==============================] - 2s 38us/step - loss: 0.9780 - acc: 0.9551 - val_loss: 0.9685 - val_acc: 0.9570\n",
      "Epoch 40/200\n",
      "50000/50000 [==============================] - 2s 36us/step - loss: 0.9753 - acc: 0.9542 - val_loss: 0.9740 - val_acc: 0.9546\n",
      "Epoch 41/200\n",
      "50000/50000 [==============================] - 2s 37us/step - loss: 0.9716 - acc: 0.9552 - val_loss: 0.9692 - val_acc: 0.9562\n",
      "Epoch 42/200\n",
      "50000/50000 [==============================] - 2s 38us/step - loss: 0.9671 - acc: 0.9553 - val_loss: 0.9765 - val_acc: 0.9508\n",
      "Epoch 43/200\n",
      "50000/50000 [==============================] - 2s 39us/step - loss: 0.9652 - acc: 0.9552 - val_loss: 0.9816 - val_acc: 0.9515\n",
      "Epoch 44/200\n",
      "50000/50000 [==============================] - 2s 36us/step - loss: 0.9641 - acc: 0.9554 - val_loss: 0.9913 - val_acc: 0.9475\n",
      "Epoch 45/200\n",
      "50000/50000 [==============================] - 2s 38us/step - loss: 0.9597 - acc: 0.9555 - val_loss: 0.9684 - val_acc: 0.9536\n",
      "Epoch 46/200\n",
      "50000/50000 [==============================] - 2s 38us/step - loss: 0.9584 - acc: 0.9572 - val_loss: 0.9858 - val_acc: 0.9500\n",
      "Epoch 47/200\n",
      "50000/50000 [==============================] - 2s 38us/step - loss: 0.9534 - acc: 0.9582 - val_loss: 0.9775 - val_acc: 0.9510\n",
      "Epoch 48/200\n",
      "50000/50000 [==============================] - 2s 40us/step - loss: 0.9571 - acc: 0.9553 - val_loss: 0.9583 - val_acc: 0.9557\n",
      "Epoch 49/200\n",
      "50000/50000 [==============================] - 2s 39us/step - loss: 0.9505 - acc: 0.9575 - val_loss: 0.9885 - val_acc: 0.9462\n",
      "Epoch 50/200\n",
      "50000/50000 [==============================] - 2s 41us/step - loss: 0.9511 - acc: 0.9564 - val_loss: 0.9589 - val_acc: 0.9533\n",
      "Epoch 51/200\n",
      "50000/50000 [==============================] - 2s 41us/step - loss: 0.9489 - acc: 0.9576 - val_loss: 0.9653 - val_acc: 0.9508\n",
      "Epoch 52/200\n",
      "50000/50000 [==============================] - 2s 41us/step - loss: 0.9487 - acc: 0.9572 - val_loss: 0.9427 - val_acc: 0.9593\n",
      "Epoch 53/200\n",
      "50000/50000 [==============================] - 2s 40us/step - loss: 0.9458 - acc: 0.9564 - val_loss: 0.9545 - val_acc: 0.9534\n",
      "Epoch 54/200\n",
      "50000/50000 [==============================] - 2s 41us/step - loss: 0.9420 - acc: 0.9575 - val_loss: 0.9413 - val_acc: 0.9597\n",
      "Epoch 55/200\n",
      "50000/50000 [==============================] - 2s 40us/step - loss: 0.9408 - acc: 0.9580 - val_loss: 0.9604 - val_acc: 0.9524\n",
      "Epoch 56/200\n",
      "50000/50000 [==============================] - 2s 40us/step - loss: 0.9390 - acc: 0.9586 - val_loss: 0.9380 - val_acc: 0.9563\n",
      "Epoch 57/200\n",
      "50000/50000 [==============================] - 2s 39us/step - loss: 0.9379 - acc: 0.9586 - val_loss: 0.9295 - val_acc: 0.9604\n",
      "Epoch 58/200\n",
      "50000/50000 [==============================] - 2s 40us/step - loss: 0.9387 - acc: 0.9583 - val_loss: 0.9428 - val_acc: 0.9585\n",
      "Epoch 59/200\n"
     ]
    },
    {
     "name": "stdout",
     "output_type": "stream",
     "text": [
      "50000/50000 [==============================] - 2s 40us/step - loss: 0.9365 - acc: 0.9581 - val_loss: 0.9320 - val_acc: 0.9603\n",
      "Epoch 60/200\n",
      "50000/50000 [==============================] - 2s 40us/step - loss: 0.9351 - acc: 0.9587 - val_loss: 0.9564 - val_acc: 0.9509\n",
      "Epoch 61/200\n",
      "50000/50000 [==============================] - 2s 39us/step - loss: 0.9374 - acc: 0.9569 - val_loss: 0.9373 - val_acc: 0.9583\n",
      "Epoch 62/200\n",
      "50000/50000 [==============================] - 2s 41us/step - loss: 0.9326 - acc: 0.9584 - val_loss: 0.9566 - val_acc: 0.9512\n",
      "Epoch 63/200\n",
      "50000/50000 [==============================] - 2s 38us/step - loss: 0.9328 - acc: 0.9588 - val_loss: 0.9599 - val_acc: 0.9497\n",
      "Epoch 64/200\n",
      "50000/50000 [==============================] - 2s 38us/step - loss: 0.9323 - acc: 0.9587 - val_loss: 0.9404 - val_acc: 0.9563\n",
      "Epoch 65/200\n",
      "50000/50000 [==============================] - 2s 39us/step - loss: 0.9298 - acc: 0.9588 - val_loss: 0.9593 - val_acc: 0.9520\n",
      "Epoch 66/200\n",
      "50000/50000 [==============================] - 2s 38us/step - loss: 0.9280 - acc: 0.9590 - val_loss: 0.9308 - val_acc: 0.9584\n",
      "Epoch 67/200\n",
      "50000/50000 [==============================] - 2s 38us/step - loss: 0.9273 - acc: 0.9595 - val_loss: 0.9519 - val_acc: 0.9531\n",
      "Epoch 68/200\n",
      "50000/50000 [==============================] - 2s 38us/step - loss: 0.9285 - acc: 0.9585 - val_loss: 0.9854 - val_acc: 0.9414\n",
      "Epoch 69/200\n",
      "50000/50000 [==============================] - 2s 39us/step - loss: 0.9271 - acc: 0.9590 - val_loss: 0.9527 - val_acc: 0.9487\n",
      "Epoch 70/200\n",
      "50000/50000 [==============================] - 2s 36us/step - loss: 0.9255 - acc: 0.9594 - val_loss: 0.9195 - val_acc: 0.9619\n",
      "Epoch 71/200\n",
      "50000/50000 [==============================] - 2s 37us/step - loss: 0.9241 - acc: 0.9594 - val_loss: 0.9350 - val_acc: 0.9569\n",
      "Epoch 72/200\n",
      "50000/50000 [==============================] - 2s 37us/step - loss: 0.9224 - acc: 0.9597 - val_loss: 0.9302 - val_acc: 0.9591\n",
      "Epoch 73/200\n",
      "50000/50000 [==============================] - 2s 38us/step - loss: 0.9224 - acc: 0.9596 - val_loss: 0.9356 - val_acc: 0.9540\n",
      "Epoch 74/200\n",
      "50000/50000 [==============================] - 2s 38us/step - loss: 0.9237 - acc: 0.9588 - val_loss: 0.9386 - val_acc: 0.9548\n",
      "Epoch 75/200\n",
      "50000/50000 [==============================] - 2s 38us/step - loss: 0.9208 - acc: 0.9595 - val_loss: 0.9649 - val_acc: 0.9459\n",
      "Epoch 76/200\n",
      "50000/50000 [==============================] - 2s 38us/step - loss: 0.9168 - acc: 0.9605 - val_loss: 0.9254 - val_acc: 0.9571\n",
      "Epoch 77/200\n",
      "50000/50000 [==============================] - 2s 38us/step - loss: 0.9183 - acc: 0.9601 - val_loss: 0.9664 - val_acc: 0.9462\n",
      "Epoch 78/200\n",
      "50000/50000 [==============================] - 2s 38us/step - loss: 0.9178 - acc: 0.9595 - val_loss: 0.9146 - val_acc: 0.9628\n",
      "Epoch 79/200\n",
      "50000/50000 [==============================] - 2s 39us/step - loss: 0.9170 - acc: 0.9604 - val_loss: 0.9180 - val_acc: 0.9603\n",
      "Epoch 80/200\n",
      "50000/50000 [==============================] - 2s 40us/step - loss: 0.9152 - acc: 0.9607 - val_loss: 0.9125 - val_acc: 0.9609\n",
      "Epoch 81/200\n",
      "50000/50000 [==============================] - 2s 41us/step - loss: 0.9155 - acc: 0.9600 - val_loss: 0.9306 - val_acc: 0.9556\n",
      "Epoch 82/200\n",
      "50000/50000 [==============================] - 2s 41us/step - loss: 0.9183 - acc: 0.9595 - val_loss: 0.9044 - val_acc: 0.9618\n",
      "Epoch 83/200\n",
      "50000/50000 [==============================] - 2s 40us/step - loss: 0.9139 - acc: 0.9601 - val_loss: 0.9252 - val_acc: 0.9567\n",
      "Epoch 84/200\n",
      "50000/50000 [==============================] - 2s 40us/step - loss: 0.9121 - acc: 0.9614 - val_loss: 0.9193 - val_acc: 0.9572\n",
      "Epoch 85/200\n",
      "50000/50000 [==============================] - 2s 39us/step - loss: 0.9143 - acc: 0.9594 - val_loss: 0.9302 - val_acc: 0.9541\n",
      "Epoch 86/200\n",
      "50000/50000 [==============================] - 2s 40us/step - loss: 0.9107 - acc: 0.9614 - val_loss: 0.9172 - val_acc: 0.9605\n",
      "Epoch 87/200\n",
      "50000/50000 [==============================] - 2s 39us/step - loss: 0.9109 - acc: 0.9603 - val_loss: 0.9521 - val_acc: 0.9491\n",
      "Epoch 88/200\n",
      "50000/50000 [==============================] - 2s 39us/step - loss: 0.9088 - acc: 0.9605 - val_loss: 0.9134 - val_acc: 0.9590\n",
      "Epoch 89/200\n",
      "50000/50000 [==============================] - 2s 41us/step - loss: 0.9098 - acc: 0.9609 - val_loss: 0.9265 - val_acc: 0.9545\n",
      "Epoch 90/200\n",
      "50000/50000 [==============================] - 2s 40us/step - loss: 0.9108 - acc: 0.9608 - val_loss: 0.9030 - val_acc: 0.9622\n",
      "Epoch 91/200\n",
      "50000/50000 [==============================] - 2s 40us/step - loss: 0.9092 - acc: 0.9609 - val_loss: 0.9120 - val_acc: 0.9594\n",
      "Epoch 92/200\n",
      "50000/50000 [==============================] - 2s 41us/step - loss: 0.9056 - acc: 0.9614 - val_loss: 0.9048 - val_acc: 0.9619\n",
      "Epoch 93/200\n",
      "50000/50000 [==============================] - 2s 40us/step - loss: 0.9089 - acc: 0.9602 - val_loss: 0.9011 - val_acc: 0.9636\n",
      "Epoch 94/200\n",
      "50000/50000 [==============================] - 2s 38us/step - loss: 0.9071 - acc: 0.9608 - val_loss: 0.9289 - val_acc: 0.9514\n",
      "Epoch 95/200\n",
      "50000/50000 [==============================] - 2s 38us/step - loss: 0.9076 - acc: 0.9612 - val_loss: 0.9234 - val_acc: 0.9573\n",
      "Epoch 96/200\n",
      "50000/50000 [==============================] - 2s 38us/step - loss: 0.9051 - acc: 0.9606 - val_loss: 0.9254 - val_acc: 0.9553\n",
      "Epoch 97/200\n",
      "50000/50000 [==============================] - 2s 37us/step - loss: 0.9046 - acc: 0.9606 - val_loss: 0.9471 - val_acc: 0.9444\n",
      "Epoch 98/200\n",
      "50000/50000 [==============================] - 2s 38us/step - loss: 0.9047 - acc: 0.9606 - val_loss: 0.9071 - val_acc: 0.9600\n",
      "Epoch 99/200\n",
      "50000/50000 [==============================] - 2s 38us/step - loss: 0.9045 - acc: 0.9605 - val_loss: 0.9522 - val_acc: 0.9480\n",
      "Epoch 100/200\n",
      "50000/50000 [==============================] - 2s 39us/step - loss: 0.9026 - acc: 0.9611 - val_loss: 0.9777 - val_acc: 0.9397\n",
      "Epoch 101/200\n",
      "50000/50000 [==============================] - 2s 38us/step - loss: 0.9038 - acc: 0.9604 - val_loss: 0.9170 - val_acc: 0.9563\n",
      "Epoch 102/200\n",
      "50000/50000 [==============================] - 2s 39us/step - loss: 0.9017 - acc: 0.9608 - val_loss: 0.9202 - val_acc: 0.9548\n",
      "Epoch 103/200\n",
      "50000/50000 [==============================] - 2s 38us/step - loss: 0.9012 - acc: 0.9617 - val_loss: 0.9343 - val_acc: 0.9489\n",
      "Epoch 104/200\n",
      "50000/50000 [==============================] - 2s 39us/step - loss: 0.9020 - acc: 0.9607 - val_loss: 0.9279 - val_acc: 0.9513\n",
      "Epoch 105/200\n",
      "50000/50000 [==============================] - 2s 38us/step - loss: 0.9025 - acc: 0.9615 - val_loss: 0.9151 - val_acc: 0.9579\n",
      "Epoch 106/200\n",
      "50000/50000 [==============================] - 2s 38us/step - loss: 0.9014 - acc: 0.9608 - val_loss: 0.9049 - val_acc: 0.9610\n",
      "Epoch 107/200\n",
      "50000/50000 [==============================] - 2s 39us/step - loss: 0.9006 - acc: 0.9609 - val_loss: 0.9129 - val_acc: 0.9566\n",
      "Epoch 108/200\n",
      "50000/50000 [==============================] - 2s 39us/step - loss: 0.8981 - acc: 0.9617 - val_loss: 0.9043 - val_acc: 0.9593\n",
      "Epoch 109/200\n",
      "50000/50000 [==============================] - 2s 38us/step - loss: 0.8966 - acc: 0.9616 - val_loss: 0.9591 - val_acc: 0.9424\n",
      "Epoch 110/200\n",
      "50000/50000 [==============================] - 2s 40us/step - loss: 0.8976 - acc: 0.9611 - val_loss: 0.9034 - val_acc: 0.9596\n",
      "Epoch 111/200\n",
      "50000/50000 [==============================] - 2s 39us/step - loss: 0.8975 - acc: 0.9614 - val_loss: 0.9044 - val_acc: 0.9586\n",
      "Epoch 112/200\n",
      "50000/50000 [==============================] - 2s 40us/step - loss: 0.8964 - acc: 0.9618 - val_loss: 0.8968 - val_acc: 0.9608\n",
      "Epoch 113/200\n",
      "50000/50000 [==============================] - 2s 40us/step - loss: 0.8958 - acc: 0.9627 - val_loss: 0.9134 - val_acc: 0.9560\n",
      "Epoch 114/200\n",
      "50000/50000 [==============================] - 2s 40us/step - loss: 0.8967 - acc: 0.9612 - val_loss: 0.9045 - val_acc: 0.9589\n",
      "Epoch 115/200\n",
      "50000/50000 [==============================] - 2s 39us/step - loss: 0.8952 - acc: 0.9618 - val_loss: 0.9170 - val_acc: 0.9558\n",
      "Epoch 116/200\n",
      "50000/50000 [==============================] - 2s 41us/step - loss: 0.8983 - acc: 0.9608 - val_loss: 0.8892 - val_acc: 0.9628\n",
      "Epoch 117/200\n",
      "50000/50000 [==============================] - 2s 39us/step - loss: 0.8929 - acc: 0.9631 - val_loss: 0.9236 - val_acc: 0.9533\n"
     ]
    },
    {
     "name": "stdout",
     "output_type": "stream",
     "text": [
      "Epoch 118/200\n",
      "50000/50000 [==============================] - 2s 40us/step - loss: 0.8952 - acc: 0.9621 - val_loss: 0.9438 - val_acc: 0.9441\n",
      "Epoch 119/200\n",
      "50000/50000 [==============================] - 2s 41us/step - loss: 0.8933 - acc: 0.9617 - val_loss: 0.8836 - val_acc: 0.9650\n",
      "Epoch 120/200\n",
      "50000/50000 [==============================] - 2s 42us/step - loss: 0.8935 - acc: 0.9617 - val_loss: 0.9835 - val_acc: 0.9336\n",
      "Epoch 121/200\n",
      "50000/50000 [==============================] - 2s 40us/step - loss: 0.8925 - acc: 0.9620 - val_loss: 0.9015 - val_acc: 0.9586\n",
      "Epoch 122/200\n",
      "50000/50000 [==============================] - 2s 40us/step - loss: 0.8893 - acc: 0.9633 - val_loss: 0.8897 - val_acc: 0.9621\n",
      "Epoch 123/200\n",
      "50000/50000 [==============================] - 2s 40us/step - loss: 0.8900 - acc: 0.9620 - val_loss: 0.9034 - val_acc: 0.9581\n",
      "Epoch 124/200\n",
      "50000/50000 [==============================] - 2s 39us/step - loss: 0.8903 - acc: 0.9612 - val_loss: 0.9154 - val_acc: 0.9560\n",
      "Epoch 125/200\n",
      "50000/50000 [==============================] - 2s 39us/step - loss: 0.8904 - acc: 0.9625 - val_loss: 0.9597 - val_acc: 0.9423\n",
      "Epoch 126/200\n",
      "50000/50000 [==============================] - 2s 38us/step - loss: 0.8916 - acc: 0.9616 - val_loss: 0.8862 - val_acc: 0.9633\n",
      "Epoch 127/200\n",
      "50000/50000 [==============================] - 2s 39us/step - loss: 0.8919 - acc: 0.9617 - val_loss: 0.9934 - val_acc: 0.9277\n",
      "Epoch 128/200\n",
      "50000/50000 [==============================] - 2s 39us/step - loss: 0.8895 - acc: 0.9615 - val_loss: 0.8856 - val_acc: 0.9625\n",
      "Epoch 129/200\n",
      "50000/50000 [==============================] - 2s 38us/step - loss: 0.8884 - acc: 0.9620 - val_loss: 0.8985 - val_acc: 0.9585\n",
      "Epoch 130/200\n",
      "50000/50000 [==============================] - 2s 39us/step - loss: 0.8880 - acc: 0.9623 - val_loss: 0.8810 - val_acc: 0.9636\n",
      "Epoch 131/200\n",
      "50000/50000 [==============================] - 2s 39us/step - loss: 0.8860 - acc: 0.9628 - val_loss: 0.8948 - val_acc: 0.9613\n",
      "Epoch 132/200\n",
      "50000/50000 [==============================] - 2s 38us/step - loss: 0.8862 - acc: 0.9620 - val_loss: 0.9139 - val_acc: 0.9548\n",
      "Epoch 133/200\n",
      "50000/50000 [==============================] - 2s 38us/step - loss: 0.8853 - acc: 0.9623 - val_loss: 0.9047 - val_acc: 0.9553\n",
      "Epoch 134/200\n",
      "50000/50000 [==============================] - 2s 38us/step - loss: 0.8865 - acc: 0.9622 - val_loss: 0.9132 - val_acc: 0.9524\n",
      "Epoch 135/200\n",
      "50000/50000 [==============================] - 2s 39us/step - loss: 0.8838 - acc: 0.9627 - val_loss: 0.8829 - val_acc: 0.9634\n",
      "Epoch 136/200\n",
      "50000/50000 [==============================] - 2s 39us/step - loss: 0.8853 - acc: 0.9625 - val_loss: 0.9159 - val_acc: 0.9513\n",
      "Epoch 137/200\n",
      "50000/50000 [==============================] - 2s 39us/step - loss: 0.8859 - acc: 0.9616 - val_loss: 0.9014 - val_acc: 0.9579\n",
      "Epoch 138/200\n",
      "50000/50000 [==============================] - 2s 39us/step - loss: 0.8823 - acc: 0.9625 - val_loss: 0.8983 - val_acc: 0.9585\n",
      "Epoch 139/200\n",
      "50000/50000 [==============================] - 2s 39us/step - loss: 0.8831 - acc: 0.9624 - val_loss: 0.9260 - val_acc: 0.9494\n",
      "Epoch 140/200\n",
      "50000/50000 [==============================] - 2s 39us/step - loss: 0.8820 - acc: 0.9631 - val_loss: 0.8942 - val_acc: 0.9597\n",
      "Epoch 141/200\n",
      "50000/50000 [==============================] - 2s 40us/step - loss: 0.8840 - acc: 0.9621 - val_loss: 0.9225 - val_acc: 0.9498\n",
      "Epoch 142/200\n",
      "50000/50000 [==============================] - 2s 39us/step - loss: 0.8838 - acc: 0.9619 - val_loss: 0.8851 - val_acc: 0.9630\n",
      "Epoch 143/200\n",
      "50000/50000 [==============================] - 2s 40us/step - loss: 0.8842 - acc: 0.9614 - val_loss: 0.8840 - val_acc: 0.9637\n",
      "Epoch 144/200\n",
      "50000/50000 [==============================] - 2s 39us/step - loss: 0.8790 - acc: 0.9645 - val_loss: 0.8847 - val_acc: 0.9617\n",
      "Epoch 145/200\n",
      "50000/50000 [==============================] - 2s 41us/step - loss: 0.8840 - acc: 0.9620 - val_loss: 0.9348 - val_acc: 0.9440\n",
      "Epoch 146/200\n",
      "50000/50000 [==============================] - 2s 41us/step - loss: 0.8815 - acc: 0.9627 - val_loss: 0.8898 - val_acc: 0.9595\n",
      "Epoch 147/200\n",
      "50000/50000 [==============================] - 2s 40us/step - loss: 0.8809 - acc: 0.9622 - val_loss: 0.8912 - val_acc: 0.9606\n",
      "Epoch 148/200\n",
      "50000/50000 [==============================] - 2s 39us/step - loss: 0.8798 - acc: 0.9633 - val_loss: 0.9172 - val_acc: 0.9490\n",
      "Epoch 149/200\n",
      "50000/50000 [==============================] - 2s 41us/step - loss: 0.8802 - acc: 0.9620 - val_loss: 0.9379 - val_acc: 0.9446\n",
      "Epoch 150/200\n",
      "50000/50000 [==============================] - 2s 39us/step - loss: 0.8793 - acc: 0.9633 - val_loss: 0.9028 - val_acc: 0.9585\n",
      "Epoch 151/200\n",
      "50000/50000 [==============================] - 2s 40us/step - loss: 0.8800 - acc: 0.9627 - val_loss: 0.8825 - val_acc: 0.9631\n",
      "Epoch 152/200\n",
      "50000/50000 [==============================] - 2s 40us/step - loss: 0.8784 - acc: 0.9630 - val_loss: 0.9044 - val_acc: 0.9534\n",
      "Epoch 153/200\n",
      "50000/50000 [==============================] - 2s 40us/step - loss: 0.8786 - acc: 0.9625 - val_loss: 0.8765 - val_acc: 0.9641\n",
      "Epoch 154/200\n",
      "50000/50000 [==============================] - 2s 40us/step - loss: 0.8769 - acc: 0.9633 - val_loss: 0.9303 - val_acc: 0.9468\n",
      "Epoch 155/200\n",
      "50000/50000 [==============================] - 2s 38us/step - loss: 0.8771 - acc: 0.9631 - val_loss: 0.9301 - val_acc: 0.9453\n",
      "Epoch 156/200\n",
      "50000/50000 [==============================] - 2s 38us/step - loss: 0.8763 - acc: 0.9634 - val_loss: 0.9050 - val_acc: 0.9541\n",
      "Epoch 157/200\n",
      "50000/50000 [==============================] - 2s 39us/step - loss: 0.8774 - acc: 0.9630 - val_loss: 0.8939 - val_acc: 0.9603\n",
      "Epoch 158/200\n",
      "50000/50000 [==============================] - 2s 39us/step - loss: 0.8776 - acc: 0.9633 - val_loss: 0.9087 - val_acc: 0.9537\n",
      "Epoch 159/200\n",
      "50000/50000 [==============================] - 2s 38us/step - loss: 0.8773 - acc: 0.9629 - val_loss: 0.8819 - val_acc: 0.9612\n",
      "Epoch 160/200\n",
      "50000/50000 [==============================] - 2s 38us/step - loss: 0.8760 - acc: 0.9632 - val_loss: 0.8940 - val_acc: 0.9589\n",
      "Epoch 161/200\n",
      "50000/50000 [==============================] - 2s 37us/step - loss: 0.8771 - acc: 0.9625 - val_loss: 0.8923 - val_acc: 0.9586\n",
      "Epoch 162/200\n",
      "50000/50000 [==============================] - 2s 38us/step - loss: 0.8729 - acc: 0.9636 - val_loss: 0.8904 - val_acc: 0.9586\n",
      "Epoch 163/200\n",
      "50000/50000 [==============================] - 2s 39us/step - loss: 0.8759 - acc: 0.9621 - val_loss: 0.8817 - val_acc: 0.9625\n",
      "Epoch 164/200\n",
      "50000/50000 [==============================] - 2s 39us/step - loss: 0.8734 - acc: 0.9640 - val_loss: 0.8833 - val_acc: 0.9610\n",
      "Epoch 165/200\n",
      "50000/50000 [==============================] - 2s 39us/step - loss: 0.8748 - acc: 0.9623 - val_loss: 0.9097 - val_acc: 0.9510\n",
      "Epoch 166/200\n",
      "50000/50000 [==============================] - 2s 38us/step - loss: 0.8734 - acc: 0.9624 - val_loss: 0.9318 - val_acc: 0.9440\n",
      "Epoch 167/200\n",
      "50000/50000 [==============================] - 2s 39us/step - loss: 0.8715 - acc: 0.9633 - val_loss: 0.8888 - val_acc: 0.9586\n",
      "Epoch 168/200\n",
      "50000/50000 [==============================] - 2s 38us/step - loss: 0.8731 - acc: 0.9641 - val_loss: 0.9179 - val_acc: 0.9522\n",
      "Epoch 169/200\n",
      "50000/50000 [==============================] - 2s 39us/step - loss: 0.8743 - acc: 0.9629 - val_loss: 0.8786 - val_acc: 0.9622\n",
      "Epoch 170/200\n",
      "50000/50000 [==============================] - 2s 38us/step - loss: 0.8683 - acc: 0.9649 - val_loss: 0.9023 - val_acc: 0.9533\n",
      "Epoch 171/200\n",
      "50000/50000 [==============================] - 2s 40us/step - loss: 0.8743 - acc: 0.9624 - val_loss: 0.8755 - val_acc: 0.9624\n",
      "Epoch 172/200\n",
      "50000/50000 [==============================] - 2s 40us/step - loss: 0.8735 - acc: 0.9624 - val_loss: 0.8726 - val_acc: 0.9631\n",
      "Epoch 173/200\n",
      "50000/50000 [==============================] - 2s 41us/step - loss: 0.8711 - acc: 0.9638 - val_loss: 0.8843 - val_acc: 0.9614\n",
      "Epoch 174/200\n",
      "50000/50000 [==============================] - 2s 41us/step - loss: 0.8701 - acc: 0.9638 - val_loss: 0.8879 - val_acc: 0.9598\n",
      "Epoch 175/200\n",
      "50000/50000 [==============================] - 2s 40us/step - loss: 0.8718 - acc: 0.9623 - val_loss: 0.8697 - val_acc: 0.9663\n",
      "Epoch 176/200\n"
     ]
    },
    {
     "name": "stdout",
     "output_type": "stream",
     "text": [
      "50000/50000 [==============================] - 2s 39us/step - loss: 0.8693 - acc: 0.9624 - val_loss: 0.8966 - val_acc: 0.9549\n",
      "Epoch 177/200\n",
      "50000/50000 [==============================] - 2s 41us/step - loss: 0.8717 - acc: 0.9625 - val_loss: 0.8969 - val_acc: 0.9552\n",
      "Epoch 178/200\n",
      "50000/50000 [==============================] - 2s 40us/step - loss: 0.8680 - acc: 0.9642 - val_loss: 0.8933 - val_acc: 0.9558\n",
      "Epoch 179/200\n",
      "50000/50000 [==============================] - 2s 40us/step - loss: 0.8696 - acc: 0.9638 - val_loss: 0.9284 - val_acc: 0.9453\n",
      "Epoch 180/200\n",
      "50000/50000 [==============================] - 2s 40us/step - loss: 0.8684 - acc: 0.9633 - val_loss: 0.9376 - val_acc: 0.9415\n",
      "Epoch 181/200\n",
      "50000/50000 [==============================] - 2s 39us/step - loss: 0.8706 - acc: 0.9634 - val_loss: 0.8891 - val_acc: 0.9586\n",
      "Epoch 182/200\n",
      "50000/50000 [==============================] - 2s 39us/step - loss: 0.8723 - acc: 0.9625 - val_loss: 0.8831 - val_acc: 0.9601\n",
      "Epoch 183/200\n",
      "50000/50000 [==============================] - 2s 39us/step - loss: 0.8678 - acc: 0.9641 - val_loss: 0.8665 - val_acc: 0.9645\n",
      "Epoch 184/200\n",
      "50000/50000 [==============================] - 2s 41us/step - loss: 0.8685 - acc: 0.9642 - val_loss: 0.9328 - val_acc: 0.9450\n",
      "Epoch 185/200\n",
      "50000/50000 [==============================] - 2s 40us/step - loss: 0.8724 - acc: 0.9621 - val_loss: 0.8742 - val_acc: 0.9627\n",
      "Epoch 186/200\n",
      "50000/50000 [==============================] - 2s 38us/step - loss: 0.8650 - acc: 0.9645 - val_loss: 0.8713 - val_acc: 0.9629\n",
      "Epoch 187/200\n",
      "50000/50000 [==============================] - 2s 36us/step - loss: 0.8684 - acc: 0.9636 - val_loss: 0.8869 - val_acc: 0.9560\n",
      "Epoch 188/200\n",
      "50000/50000 [==============================] - 2s 37us/step - loss: 0.8685 - acc: 0.9634 - val_loss: 0.8839 - val_acc: 0.9590\n",
      "Epoch 189/200\n",
      "50000/50000 [==============================] - 2s 37us/step - loss: 0.8678 - acc: 0.9639 - val_loss: 0.8961 - val_acc: 0.9532\n",
      "Epoch 190/200\n",
      "50000/50000 [==============================] - 2s 37us/step - loss: 0.8679 - acc: 0.9639 - val_loss: 0.8786 - val_acc: 0.9595\n",
      "Epoch 191/200\n",
      "50000/50000 [==============================] - 2s 37us/step - loss: 0.8644 - acc: 0.9648 - val_loss: 0.8920 - val_acc: 0.9577\n",
      "Epoch 192/200\n",
      "50000/50000 [==============================] - 2s 37us/step - loss: 0.8668 - acc: 0.9638 - val_loss: 0.8768 - val_acc: 0.9628\n",
      "Epoch 193/200\n",
      "50000/50000 [==============================] - 2s 37us/step - loss: 0.8699 - acc: 0.9622 - val_loss: 0.8777 - val_acc: 0.9596\n",
      "Epoch 194/200\n",
      "50000/50000 [==============================] - 2s 37us/step - loss: 0.8672 - acc: 0.9635 - val_loss: 0.8663 - val_acc: 0.9638\n",
      "Epoch 195/200\n",
      "50000/50000 [==============================] - 2s 38us/step - loss: 0.8692 - acc: 0.9632 - val_loss: 0.8875 - val_acc: 0.9581\n",
      "Epoch 196/200\n",
      "50000/50000 [==============================] - 2s 39us/step - loss: 0.8673 - acc: 0.9636 - val_loss: 0.8903 - val_acc: 0.9555\n",
      "Epoch 197/200\n",
      "50000/50000 [==============================] - 2s 40us/step - loss: 0.8652 - acc: 0.9631 - val_loss: 0.8907 - val_acc: 0.9557\n",
      "Epoch 198/200\n",
      "50000/50000 [==============================] - 2s 39us/step - loss: 0.8655 - acc: 0.9634 - val_loss: 0.8915 - val_acc: 0.9578\n",
      "Epoch 199/200\n",
      "50000/50000 [==============================] - 2s 38us/step - loss: 0.8655 - acc: 0.9645 - val_loss: 0.9008 - val_acc: 0.9507\n",
      "Epoch 200/200\n",
      "50000/50000 [==============================] - 2s 37us/step - loss: 0.8655 - acc: 0.9637 - val_loss: 0.9033 - val_acc: 0.9508\n"
     ]
    }
   ],
   "source": [
    "l1_network.compile(optimizer='rmsprop',\n",
    "                   loss='categorical_crossentropy',\n",
    "                   metrics=['accuracy'])\n",
    "history3 = l1_network.fit(X_train, \n",
    "                          y_train, \n",
    "                          epochs=200, \n",
    "                          batch_size=512,\n",
    "                         validation_data=(X_val, y_val))"
   ]
  },
  {
   "cell_type": "code",
   "execution_count": 32,
   "metadata": {},
   "outputs": [
    {
     "data": {
      "image/png": "[encoded data removed]",
      "text/plain": [
       "<Figure size 432x288 with 1 Axes>"
      ]
     },
     "metadata": {},
     "output_type": "display_data"
    }
   ],
   "source": [
    "# Plotting the validation loss\n",
    "val_loss3 = history3.history['val_loss']\n",
    "plt.plot(epochs, val_loss3, 'b', label='Validation loss')\n",
    "plt.title('Validation loss (regularization = L1)')\n",
    "plt.xlabel('Epochs')\n",
    "plt.ylabel('Loss')\n",
    "plt.legend()\n",
    "plt.show()"
   ]
  },
  {
   "cell_type": "code",
   "execution_count": 33,
   "metadata": {},
   "outputs": [
    {
     "data": {
      "image/png": "[encoded data removed]",
      "text/plain": [
       "<Figure size 432x288 with 1 Axes>"
      ]
     },
     "metadata": {},
     "output_type": "display_data"
    }
   ],
   "source": [
    "# Plotting the validation accuracy\n",
    "plt.clf() #Clears the figure\n",
    "val_acc3 = history3.history['val_acc']\n",
    "plt.plot(epochs, val_acc3, 'b', label='Validation acc')\n",
    "plt.title('Validation accuracy (regularization = L1)')\n",
    "plt.xlabel('Epochs')\n",
    "plt.ylabel('Loss')\n",
    "plt.legend()\n",
    "plt.show()"
   ]
  },
  {
   "cell_type": "code",
   "execution_count": 34,
   "metadata": {},
   "outputs": [
    {
     "data": {
      "image/png": "[encoded data removed]",
      "text/plain": [
       "<Figure size 432x288 with 1 Axes>"
      ]
     },
     "metadata": {},
     "output_type": "display_data"
    }
   ],
   "source": [
    "# plot validation accuracy (smooth)\n",
    "smooth_history3 = smooth_curve(val_acc3[10:])\n",
    "plt.plot(range(10, len(epochs)), smooth_history3)\n",
    "plt.xlabel('Epochs')\n",
    "plt.ylabel('Validation accuracy')\n",
    "plt.title('Validation accuracy (regularization = L1)')\n",
    "plt.show()"
   ]
  },
  {
   "cell_type": "code",
   "execution_count": 35,
   "metadata": {},
   "outputs": [
    {
     "data": {
      "text/plain": [
       "174"
      ]
     },
     "execution_count": 35,
     "metadata": {},
     "output_type": "execute_result"
    }
   ],
   "source": [
    "np.argmax(val_acc3)"
   ]
  },
  {
   "cell_type": "markdown",
   "metadata": {},
   "source": [
    "Generally the loss of validation set keeps decreasing and fluctuates less the the two previous models, which means it's a better strategy to adopt regularization which gets a simpler model and aviods overfitting. The accuracy functino generally also keeps increasing and peaks at epoch 175 (96.63%)."
   ]
  },
  {
   "cell_type": "code",
   "execution_count": 36,
   "metadata": {},
   "outputs": [],
   "source": [
    "# L2 regularized model\n",
    "l2_network = models.Sequential()\n",
    "l2_network.add(layers.Dense(512, kernel_regularizer=regularizers.l2(0.001), \n",
    "                            activation='relu', input_shape=(28 * 28,)))\n",
    "l2_network.add(layers.Dense(512, kernel_regularizer=regularizers.l2(0.001),\n",
    "                            activation='relu'))\n",
    "l2_network.add(layers.Dense(512, kernel_regularizer=regularizers.l2(0.001),\n",
    "                            activation='relu'))\n",
    "l2_network.add(layers.Dense(512, kernel_regularizer=regularizers.l2(0.001),\n",
    "                            activation='relu'))\n",
    "l2_network.add(layers.Dense(10, activation='softmax'))"
   ]
  },
  {
   "cell_type": "code",
   "execution_count": 37,
   "metadata": {},
   "outputs": [
    {
     "name": "stdout",
     "output_type": "stream",
     "text": [
      "Train on 50000 samples, validate on 10000 samples\n",
      "Epoch 1/200\n",
      "50000/50000 [==============================] - 2s 46us/step - loss: 1.7980 - acc: 0.8262 - val_loss: 1.0705 - val_acc: 0.9232\n",
      "Epoch 2/200\n",
      "50000/50000 [==============================] - 2s 39us/step - loss: 0.8377 - acc: 0.9352 - val_loss: 0.6177 - val_acc: 0.9525\n",
      "Epoch 3/200\n",
      "50000/50000 [==============================] - 2s 40us/step - loss: 0.5426 - acc: 0.9507 - val_loss: 0.4689 - val_acc: 0.9492\n",
      "Epoch 4/200\n",
      "50000/50000 [==============================] - 2s 39us/step - loss: 0.4027 - acc: 0.9584 - val_loss: 0.4461 - val_acc: 0.9368\n",
      "Epoch 5/200\n",
      "50000/50000 [==============================] - 2s 39us/step - loss: 0.3268 - acc: 0.9658 - val_loss: 0.3080 - val_acc: 0.9627\n",
      "Epoch 6/200\n",
      "50000/50000 [==============================] - 2s 41us/step - loss: 0.2864 - acc: 0.9678 - val_loss: 0.4462 - val_acc: 0.9170\n",
      "Epoch 7/200\n",
      "50000/50000 [==============================] - 2s 39us/step - loss: 0.2582 - acc: 0.9710 - val_loss: 0.3747 - val_acc: 0.9339\n",
      "Epoch 8/200\n",
      "50000/50000 [==============================] - 2s 38us/step - loss: 0.2328 - acc: 0.9745 - val_loss: 0.2854 - val_acc: 0.9596\n",
      "Epoch 9/200\n",
      "50000/50000 [==============================] - 2s 39us/step - loss: 0.2221 - acc: 0.9739 - val_loss: 0.3102 - val_acc: 0.9442\n",
      "Epoch 10/200\n",
      "50000/50000 [==============================] - 2s 38us/step - loss: 0.2019 - acc: 0.9780 - val_loss: 0.1949 - val_acc: 0.9794\n",
      "Epoch 11/200\n",
      "50000/50000 [==============================] - 2s 39us/step - loss: 0.1969 - acc: 0.9778 - val_loss: 0.1910 - val_acc: 0.9786\n",
      "Epoch 12/200\n",
      "50000/50000 [==============================] - 2s 38us/step - loss: 0.1913 - acc: 0.9774 - val_loss: 0.2009 - val_acc: 0.9720\n",
      "Epoch 13/200\n",
      "50000/50000 [==============================] - 2s 39us/step - loss: 0.1808 - acc: 0.9791 - val_loss: 0.2193 - val_acc: 0.9696\n",
      "Epoch 14/200\n",
      "50000/50000 [==============================] - 2s 39us/step - loss: 0.1730 - acc: 0.9811 - val_loss: 0.1868 - val_acc: 0.9765\n",
      "Epoch 15/200\n",
      "50000/50000 [==============================] - 2s 39us/step - loss: 0.1662 - acc: 0.9811 - val_loss: 0.1791 - val_acc: 0.9784\n",
      "Epoch 16/200\n",
      "50000/50000 [==============================] - 2s 39us/step - loss: 0.1663 - acc: 0.9814 - val_loss: 0.1698 - val_acc: 0.9794\n",
      "Epoch 17/200\n",
      "50000/50000 [==============================] - 2s 38us/step - loss: 0.1526 - acc: 0.9840 - val_loss: 0.2138 - val_acc: 0.9649\n",
      "Epoch 18/200\n",
      "50000/50000 [==============================] - 2s 38us/step - loss: 0.1525 - acc: 0.9829 - val_loss: 0.1986 - val_acc: 0.9680\n",
      "Epoch 19/200\n",
      "50000/50000 [==============================] - 2s 38us/step - loss: 0.1506 - acc: 0.9836 - val_loss: 0.1700 - val_acc: 0.9767\n",
      "Epoch 20/200\n",
      "50000/50000 [==============================] - 2s 37us/step - loss: 0.1440 - acc: 0.9846 - val_loss: 0.1647 - val_acc: 0.9780\n",
      "Epoch 21/200\n",
      "50000/50000 [==============================] - 2s 40us/step - loss: 0.1432 - acc: 0.9841 - val_loss: 0.1549 - val_acc: 0.9803\n",
      "Epoch 22/200\n",
      "50000/50000 [==============================] - 2s 38us/step - loss: 0.1388 - acc: 0.9851 - val_loss: 0.1680 - val_acc: 0.9782\n",
      "Epoch 23/200\n",
      "50000/50000 [==============================] - 2s 38us/step - loss: 0.1346 - acc: 0.9860 - val_loss: 0.1962 - val_acc: 0.9653\n",
      "Epoch 24/200\n",
      "50000/50000 [==============================] - 2s 39us/step - loss: 0.1345 - acc: 0.9851 - val_loss: 0.1529 - val_acc: 0.9805\n",
      "Epoch 25/200\n",
      "50000/50000 [==============================] - 2s 40us/step - loss: 0.1315 - acc: 0.9860 - val_loss: 0.2465 - val_acc: 0.9476\n",
      "Epoch 26/200\n",
      "50000/50000 [==============================] - 2s 40us/step - loss: 0.1259 - acc: 0.9872 - val_loss: 0.1789 - val_acc: 0.9695\n",
      "Epoch 27/200\n",
      "50000/50000 [==============================] - 2s 40us/step - loss: 0.1268 - acc: 0.9865 - val_loss: 0.1547 - val_acc: 0.9783\n",
      "Epoch 28/200\n",
      "50000/50000 [==============================] - 2s 40us/step - loss: 0.1241 - acc: 0.9871 - val_loss: 0.1469 - val_acc: 0.9793\n",
      "Epoch 29/200\n",
      "50000/50000 [==============================] - 2s 40us/step - loss: 0.1205 - acc: 0.9877 - val_loss: 0.2073 - val_acc: 0.9645\n",
      "Epoch 30/200\n",
      "50000/50000 [==============================] - 2s 39us/step - loss: 0.1211 - acc: 0.9871 - val_loss: 0.1436 - val_acc: 0.9813\n",
      "Epoch 31/200\n",
      "50000/50000 [==============================] - 2s 40us/step - loss: 0.1177 - acc: 0.9881 - val_loss: 0.1664 - val_acc: 0.9720\n",
      "Epoch 32/200\n",
      "50000/50000 [==============================] - 2s 41us/step - loss: 0.1186 - acc: 0.9879 - val_loss: 0.1583 - val_acc: 0.9764\n",
      "Epoch 33/200\n",
      "50000/50000 [==============================] - 2s 40us/step - loss: 0.1160 - acc: 0.9885 - val_loss: 0.1497 - val_acc: 0.9783\n",
      "Epoch 34/200\n",
      "50000/50000 [==============================] - 2s 40us/step - loss: 0.1159 - acc: 0.9881 - val_loss: 0.1587 - val_acc: 0.9753\n",
      "Epoch 35/200\n",
      "50000/50000 [==============================] - 2s 40us/step - loss: 0.1174 - acc: 0.9872 - val_loss: 0.1525 - val_acc: 0.9769\n",
      "Epoch 36/200\n",
      "50000/50000 [==============================] - 2s 39us/step - loss: 0.1098 - acc: 0.9895 - val_loss: 0.1376 - val_acc: 0.9815\n",
      "Epoch 37/200\n",
      "50000/50000 [==============================] - 2s 39us/step - loss: 0.1111 - acc: 0.9886 - val_loss: 0.1485 - val_acc: 0.9744\n",
      "Epoch 38/200\n",
      "50000/50000 [==============================] - 2s 40us/step - loss: 0.1098 - acc: 0.9891 - val_loss: 0.1535 - val_acc: 0.9772\n",
      "Epoch 39/200\n",
      "50000/50000 [==============================] - 2s 39us/step - loss: 0.1105 - acc: 0.9885 - val_loss: 0.1880 - val_acc: 0.9657\n",
      "Epoch 40/200\n",
      "50000/50000 [==============================] - 2s 38us/step - loss: 0.1084 - acc: 0.9889 - val_loss: 0.1338 - val_acc: 0.9819\n",
      "Epoch 41/200\n",
      "50000/50000 [==============================] - 2s 39us/step - loss: 0.1088 - acc: 0.9884 - val_loss: 0.1352 - val_acc: 0.9810\n",
      "Epoch 42/200\n",
      "50000/50000 [==============================] - 2s 37us/step - loss: 0.1083 - acc: 0.9888 - val_loss: 0.1320 - val_acc: 0.9821\n",
      "Epoch 43/200\n",
      "50000/50000 [==============================] - 2s 38us/step - loss: 0.1016 - acc: 0.9913 - val_loss: 0.1490 - val_acc: 0.9766\n",
      "Epoch 44/200\n",
      "50000/50000 [==============================] - 2s 38us/step - loss: 0.1060 - acc: 0.9894 - val_loss: 0.1302 - val_acc: 0.9828\n",
      "Epoch 45/200\n",
      "50000/50000 [==============================] - 2s 39us/step - loss: 0.1082 - acc: 0.9884 - val_loss: 0.1382 - val_acc: 0.9789\n",
      "Epoch 46/200\n",
      "50000/50000 [==============================] - 2s 39us/step - loss: 0.1030 - acc: 0.9900 - val_loss: 0.1345 - val_acc: 0.9792\n",
      "Epoch 47/200\n",
      "50000/50000 [==============================] - 2s 38us/step - loss: 0.1028 - acc: 0.9903 - val_loss: 0.1525 - val_acc: 0.9744\n",
      "Epoch 48/200\n",
      "50000/50000 [==============================] - 2s 39us/step - loss: 0.1076 - acc: 0.9876 - val_loss: 0.1314 - val_acc: 0.9801\n",
      "Epoch 49/200\n",
      "50000/50000 [==============================] - 2s 37us/step - loss: 0.0997 - acc: 0.9902 - val_loss: 0.1429 - val_acc: 0.9789\n",
      "Epoch 50/200\n",
      "50000/50000 [==============================] - 2s 38us/step - loss: 0.1025 - acc: 0.9899 - val_loss: 0.1389 - val_acc: 0.9808\n",
      "Epoch 51/200\n",
      "50000/50000 [==============================] - 2s 39us/step - loss: 0.1028 - acc: 0.9895 - val_loss: 0.1363 - val_acc: 0.9787\n",
      "Epoch 52/200\n",
      "50000/50000 [==============================] - 2s 40us/step - loss: 0.0996 - acc: 0.9906 - val_loss: 0.1431 - val_acc: 0.9784\n",
      "Epoch 53/200\n",
      "50000/50000 [==============================] - 2s 39us/step - loss: 0.0991 - acc: 0.9900 - val_loss: 0.1572 - val_acc: 0.9732\n",
      "Epoch 54/200\n",
      "50000/50000 [==============================] - 2s 38us/step - loss: 0.1023 - acc: 0.9894 - val_loss: 0.1525 - val_acc: 0.9730\n",
      "Epoch 55/200\n",
      "50000/50000 [==============================] - 2s 39us/step - loss: 0.0994 - acc: 0.9902 - val_loss: 0.1482 - val_acc: 0.9754\n",
      "Epoch 56/200\n",
      "50000/50000 [==============================] - 2s 40us/step - loss: 0.1005 - acc: 0.9899 - val_loss: 0.1554 - val_acc: 0.9741\n",
      "Epoch 57/200\n",
      "50000/50000 [==============================] - 2s 41us/step - loss: 0.0981 - acc: 0.9901 - val_loss: 0.1313 - val_acc: 0.9810\n",
      "Epoch 58/200\n",
      "50000/50000 [==============================] - 2s 41us/step - loss: 0.0967 - acc: 0.9905 - val_loss: 0.1334 - val_acc: 0.9814\n",
      "Epoch 59/200\n"
     ]
    },
    {
     "name": "stdout",
     "output_type": "stream",
     "text": [
      "50000/50000 [==============================] - 2s 41us/step - loss: 0.0962 - acc: 0.9905 - val_loss: 0.1535 - val_acc: 0.9709\n",
      "Epoch 60/200\n",
      "50000/50000 [==============================] - 2s 41us/step - loss: 0.0987 - acc: 0.9902 - val_loss: 0.1481 - val_acc: 0.9736\n",
      "Epoch 61/200\n",
      "50000/50000 [==============================] - 2s 41us/step - loss: 0.0960 - acc: 0.9905 - val_loss: 0.1383 - val_acc: 0.9803\n",
      "Epoch 62/200\n",
      "50000/50000 [==============================] - 2s 41us/step - loss: 0.0971 - acc: 0.9901 - val_loss: 0.1503 - val_acc: 0.9754\n",
      "Epoch 63/200\n",
      "50000/50000 [==============================] - 2s 40us/step - loss: 0.0925 - acc: 0.9916 - val_loss: 0.1437 - val_acc: 0.9761\n",
      "Epoch 64/200\n",
      "50000/50000 [==============================] - 2s 41us/step - loss: 0.0946 - acc: 0.9907 - val_loss: 0.1690 - val_acc: 0.9676\n",
      "Epoch 65/200\n",
      "50000/50000 [==============================] - 2s 40us/step - loss: 0.0952 - acc: 0.9908 - val_loss: 0.1547 - val_acc: 0.9738\n",
      "Epoch 66/200\n",
      "50000/50000 [==============================] - 2s 41us/step - loss: 0.0952 - acc: 0.9902 - val_loss: 0.1343 - val_acc: 0.9810\n",
      "Epoch 67/200\n",
      "50000/50000 [==============================] - 2s 40us/step - loss: 0.0941 - acc: 0.9907 - val_loss: 0.1817 - val_acc: 0.9675\n",
      "Epoch 68/200\n",
      "50000/50000 [==============================] - 2s 40us/step - loss: 0.0936 - acc: 0.9911 - val_loss: 0.1270 - val_acc: 0.9816\n",
      "Epoch 69/200\n",
      "50000/50000 [==============================] - 2s 40us/step - loss: 0.0953 - acc: 0.9904 - val_loss: 0.1406 - val_acc: 0.9775\n",
      "Epoch 70/200\n",
      "50000/50000 [==============================] - 2s 39us/step - loss: 0.0939 - acc: 0.9905 - val_loss: 0.1386 - val_acc: 0.9782\n",
      "Epoch 71/200\n",
      "50000/50000 [==============================] - 2s 39us/step - loss: 0.0957 - acc: 0.9897 - val_loss: 0.1316 - val_acc: 0.9793\n",
      "Epoch 72/200\n",
      "50000/50000 [==============================] - 2s 38us/step - loss: 0.0900 - acc: 0.9919 - val_loss: 0.1473 - val_acc: 0.9733\n",
      "Epoch 73/200\n",
      "50000/50000 [==============================] - 2s 39us/step - loss: 0.0917 - acc: 0.9904 - val_loss: 0.1251 - val_acc: 0.9810\n",
      "Epoch 74/200\n",
      "50000/50000 [==============================] - 2s 39us/step - loss: 0.0939 - acc: 0.9902 - val_loss: 0.1353 - val_acc: 0.9801\n",
      "Epoch 75/200\n",
      "50000/50000 [==============================] - 2s 39us/step - loss: 0.0909 - acc: 0.9914 - val_loss: 0.1217 - val_acc: 0.9822\n",
      "Epoch 76/200\n",
      "50000/50000 [==============================] - 2s 38us/step - loss: 0.0934 - acc: 0.9904 - val_loss: 0.1245 - val_acc: 0.9813\n",
      "Epoch 77/200\n",
      "50000/50000 [==============================] - 2s 39us/step - loss: 0.0934 - acc: 0.9905 - val_loss: 0.1323 - val_acc: 0.9800\n",
      "Epoch 78/200\n",
      "50000/50000 [==============================] - 2s 38us/step - loss: 0.0930 - acc: 0.9905 - val_loss: 0.1209 - val_acc: 0.9806\n",
      "Epoch 79/200\n",
      "50000/50000 [==============================] - 2s 38us/step - loss: 0.0891 - acc: 0.9913 - val_loss: 0.2509 - val_acc: 0.9469\n",
      "Epoch 80/200\n",
      "50000/50000 [==============================] - 2s 37us/step - loss: 0.0912 - acc: 0.9905 - val_loss: 0.1314 - val_acc: 0.9794\n",
      "Epoch 81/200\n",
      "50000/50000 [==============================] - 2s 38us/step - loss: 0.0893 - acc: 0.9916 - val_loss: 0.1312 - val_acc: 0.9802\n",
      "Epoch 82/200\n",
      "50000/50000 [==============================] - 2s 39us/step - loss: 0.0948 - acc: 0.9900 - val_loss: 0.1243 - val_acc: 0.9824\n",
      "Epoch 83/200\n",
      "50000/50000 [==============================] - 2s 39us/step - loss: 0.0881 - acc: 0.9918 - val_loss: 0.1404 - val_acc: 0.9780\n",
      "Epoch 84/200\n",
      "50000/50000 [==============================] - 2s 41us/step - loss: 0.0894 - acc: 0.9913 - val_loss: 0.1440 - val_acc: 0.9760\n",
      "Epoch 85/200\n",
      "50000/50000 [==============================] - 2s 44us/step - loss: 0.0900 - acc: 0.9907 - val_loss: 0.1425 - val_acc: 0.9762\n",
      "Epoch 86/200\n",
      "50000/50000 [==============================] - 2s 41us/step - loss: 0.0864 - acc: 0.9916 - val_loss: 0.2199 - val_acc: 0.9533\n",
      "Epoch 87/200\n",
      "50000/50000 [==============================] - 2s 41us/step - loss: 0.0883 - acc: 0.9910 - val_loss: 0.1220 - val_acc: 0.9818\n",
      "Epoch 88/200\n",
      "50000/50000 [==============================] - 2s 39us/step - loss: 0.0884 - acc: 0.9912 - val_loss: 0.2066 - val_acc: 0.9616\n",
      "Epoch 89/200\n",
      "50000/50000 [==============================] - 2s 40us/step - loss: 0.0879 - acc: 0.9918 - val_loss: 0.1263 - val_acc: 0.9811\n",
      "Epoch 90/200\n",
      "50000/50000 [==============================] - 2s 41us/step - loss: 0.0879 - acc: 0.9918 - val_loss: 0.1599 - val_acc: 0.9689\n",
      "Epoch 91/200\n",
      "50000/50000 [==============================] - 2s 40us/step - loss: 0.0889 - acc: 0.9908 - val_loss: 0.1331 - val_acc: 0.9773\n",
      "Epoch 92/200\n",
      "50000/50000 [==============================] - 2s 40us/step - loss: 0.0908 - acc: 0.9902 - val_loss: 0.1218 - val_acc: 0.9828\n",
      "Epoch 93/200\n",
      "50000/50000 [==============================] - 2s 39us/step - loss: 0.0878 - acc: 0.9915 - val_loss: 0.2285 - val_acc: 0.9501\n",
      "Epoch 94/200\n",
      "50000/50000 [==============================] - 2s 40us/step - loss: 0.0877 - acc: 0.9914 - val_loss: 0.1349 - val_acc: 0.9795\n",
      "Epoch 95/200\n",
      "50000/50000 [==============================] - 2s 39us/step - loss: 0.0861 - acc: 0.9919 - val_loss: 0.1317 - val_acc: 0.9776\n",
      "Epoch 96/200\n",
      "50000/50000 [==============================] - 2s 39us/step - loss: 0.0885 - acc: 0.9905 - val_loss: 0.1255 - val_acc: 0.9796\n",
      "Epoch 97/200\n",
      "50000/50000 [==============================] - 2s 39us/step - loss: 0.0874 - acc: 0.9912 - val_loss: 0.1249 - val_acc: 0.9802\n",
      "Epoch 98/200\n",
      "50000/50000 [==============================] - 2s 40us/step - loss: 0.0880 - acc: 0.9913 - val_loss: 0.1196 - val_acc: 0.9825\n",
      "Epoch 99/200\n",
      "50000/50000 [==============================] - 2s 39us/step - loss: 0.0866 - acc: 0.9915 - val_loss: 0.1338 - val_acc: 0.9789\n",
      "Epoch 100/200\n",
      "50000/50000 [==============================] - 2s 38us/step - loss: 0.0898 - acc: 0.9914 - val_loss: 0.1164 - val_acc: 0.9824\n",
      "Epoch 101/200\n",
      "50000/50000 [==============================] - 2s 38us/step - loss: 0.0860 - acc: 0.9921 - val_loss: 0.1319 - val_acc: 0.9796\n",
      "Epoch 102/200\n",
      "50000/50000 [==============================] - 2s 36us/step - loss: 0.0910 - acc: 0.9896 - val_loss: 0.1612 - val_acc: 0.9693\n",
      "Epoch 103/200\n",
      "50000/50000 [==============================] - 2s 38us/step - loss: 0.0820 - acc: 0.9926 - val_loss: 0.1355 - val_acc: 0.9784\n",
      "Epoch 104/200\n",
      "50000/50000 [==============================] - 2s 37us/step - loss: 0.0864 - acc: 0.9913 - val_loss: 0.1289 - val_acc: 0.9776\n",
      "Epoch 105/200\n",
      "50000/50000 [==============================] - 2s 38us/step - loss: 0.0842 - acc: 0.9921 - val_loss: 0.2049 - val_acc: 0.9605\n",
      "Epoch 106/200\n",
      "50000/50000 [==============================] - 2s 37us/step - loss: 0.0837 - acc: 0.9924 - val_loss: 0.1551 - val_acc: 0.9727\n",
      "Epoch 107/200\n",
      "50000/50000 [==============================] - 2s 37us/step - loss: 0.0842 - acc: 0.9916 - val_loss: 0.1301 - val_acc: 0.9788\n",
      "Epoch 108/200\n",
      "50000/50000 [==============================] - 2s 39us/step - loss: 0.0861 - acc: 0.9907 - val_loss: 0.1594 - val_acc: 0.9718\n",
      "Epoch 109/200\n",
      "50000/50000 [==============================] - 2s 38us/step - loss: 0.0847 - acc: 0.9915 - val_loss: 0.1307 - val_acc: 0.9770\n",
      "Epoch 110/200\n",
      "50000/50000 [==============================] - 2s 38us/step - loss: 0.0864 - acc: 0.9916 - val_loss: 0.1283 - val_acc: 0.9793\n",
      "Epoch 111/200\n",
      "50000/50000 [==============================] - 2s 38us/step - loss: 0.0862 - acc: 0.9916 - val_loss: 0.1329 - val_acc: 0.9784\n",
      "Epoch 112/200\n",
      "50000/50000 [==============================] - 2s 39us/step - loss: 0.0840 - acc: 0.9914 - val_loss: 0.1338 - val_acc: 0.9779\n",
      "Epoch 113/200\n",
      "50000/50000 [==============================] - 2s 39us/step - loss: 0.0837 - acc: 0.9921 - val_loss: 0.1316 - val_acc: 0.9802\n",
      "Epoch 114/200\n",
      "50000/50000 [==============================] - 2s 38us/step - loss: 0.0860 - acc: 0.9922 - val_loss: 0.1980 - val_acc: 0.9589\n",
      "Epoch 115/200\n",
      "50000/50000 [==============================] - 2s 39us/step - loss: 0.0846 - acc: 0.9913 - val_loss: 0.1180 - val_acc: 0.9829\n",
      "Epoch 116/200\n",
      "50000/50000 [==============================] - 2s 40us/step - loss: 0.0841 - acc: 0.9919 - val_loss: 0.1486 - val_acc: 0.9747\n",
      "Epoch 117/200\n",
      "50000/50000 [==============================] - 2s 41us/step - loss: 0.0854 - acc: 0.9909 - val_loss: 0.1315 - val_acc: 0.9796\n"
     ]
    },
    {
     "name": "stdout",
     "output_type": "stream",
     "text": [
      "Epoch 118/200\n",
      "50000/50000 [==============================] - 2s 40us/step - loss: 0.0861 - acc: 0.9913 - val_loss: 0.1964 - val_acc: 0.9585\n",
      "Epoch 119/200\n",
      "50000/50000 [==============================] - 2s 41us/step - loss: 0.0865 - acc: 0.9909 - val_loss: 0.1331 - val_acc: 0.9767\n",
      "Epoch 120/200\n",
      "50000/50000 [==============================] - 2s 40us/step - loss: 0.0828 - acc: 0.9918 - val_loss: 0.1234 - val_acc: 0.9810\n",
      "Epoch 121/200\n",
      "50000/50000 [==============================] - 2s 39us/step - loss: 0.0861 - acc: 0.9911 - val_loss: 0.1270 - val_acc: 0.9804\n",
      "Epoch 122/200\n",
      "50000/50000 [==============================] - 2s 39us/step - loss: 0.0831 - acc: 0.9916 - val_loss: 0.1560 - val_acc: 0.9692\n",
      "Epoch 123/200\n",
      "50000/50000 [==============================] - 2s 38us/step - loss: 0.0815 - acc: 0.9920 - val_loss: 0.1229 - val_acc: 0.9808\n",
      "Epoch 124/200\n",
      "50000/50000 [==============================] - 2s 40us/step - loss: 0.0826 - acc: 0.9919 - val_loss: 0.1416 - val_acc: 0.9778\n",
      "Epoch 125/200\n",
      "50000/50000 [==============================] - 2s 40us/step - loss: 0.0814 - acc: 0.9923 - val_loss: 0.1594 - val_acc: 0.9701\n",
      "Epoch 126/200\n",
      "50000/50000 [==============================] - 2s 40us/step - loss: 0.0839 - acc: 0.9913 - val_loss: 0.1228 - val_acc: 0.9811\n",
      "Epoch 127/200\n",
      "50000/50000 [==============================] - 2s 40us/step - loss: 0.0840 - acc: 0.9918 - val_loss: 0.1217 - val_acc: 0.9811\n",
      "Epoch 128/200\n",
      "50000/50000 [==============================] - 2s 42us/step - loss: 0.0805 - acc: 0.9922 - val_loss: 0.1329 - val_acc: 0.9769\n",
      "Epoch 129/200\n",
      "50000/50000 [==============================] - 2s 41us/step - loss: 0.0850 - acc: 0.9908 - val_loss: 0.1364 - val_acc: 0.9768\n",
      "Epoch 130/200\n",
      "50000/50000 [==============================] - 2s 40us/step - loss: 0.0810 - acc: 0.9930 - val_loss: 0.1440 - val_acc: 0.9766\n",
      "Epoch 131/200\n",
      "50000/50000 [==============================] - 2s 37us/step - loss: 0.0801 - acc: 0.9922 - val_loss: 0.1744 - val_acc: 0.9694\n",
      "Epoch 132/200\n",
      "50000/50000 [==============================] - 2s 37us/step - loss: 0.0851 - acc: 0.9907 - val_loss: 0.1393 - val_acc: 0.9782\n",
      "Epoch 133/200\n",
      "50000/50000 [==============================] - 2s 38us/step - loss: 0.0825 - acc: 0.9918 - val_loss: 0.1341 - val_acc: 0.9767\n",
      "Epoch 134/200\n",
      "50000/50000 [==============================] - 2s 38us/step - loss: 0.0853 - acc: 0.9908 - val_loss: 0.1247 - val_acc: 0.9812\n",
      "Epoch 135/200\n",
      "50000/50000 [==============================] - 2s 38us/step - loss: 0.0807 - acc: 0.9915 - val_loss: 0.1615 - val_acc: 0.9679\n",
      "Epoch 136/200\n",
      "50000/50000 [==============================] - 2s 38us/step - loss: 0.0795 - acc: 0.9929 - val_loss: 0.1629 - val_acc: 0.9719\n",
      "Epoch 137/200\n",
      "50000/50000 [==============================] - 2s 39us/step - loss: 0.0810 - acc: 0.9922 - val_loss: 0.1377 - val_acc: 0.9764\n",
      "Epoch 138/200\n",
      "50000/50000 [==============================] - 2s 38us/step - loss: 0.0831 - acc: 0.9915 - val_loss: 0.1393 - val_acc: 0.9767\n",
      "Epoch 139/200\n",
      "50000/50000 [==============================] - 2s 39us/step - loss: 0.0824 - acc: 0.9917 - val_loss: 0.1219 - val_acc: 0.9806\n",
      "Epoch 140/200\n",
      "50000/50000 [==============================] - 2s 39us/step - loss: 0.0816 - acc: 0.9925 - val_loss: 0.1284 - val_acc: 0.9787\n",
      "Epoch 141/200\n",
      "50000/50000 [==============================] - 2s 39us/step - loss: 0.0809 - acc: 0.9920 - val_loss: 0.1415 - val_acc: 0.9741\n",
      "Epoch 142/200\n",
      "50000/50000 [==============================] - 2s 39us/step - loss: 0.0801 - acc: 0.9921 - val_loss: 0.1859 - val_acc: 0.9676\n",
      "Epoch 143/200\n",
      "50000/50000 [==============================] - 2s 39us/step - loss: 0.0808 - acc: 0.9915 - val_loss: 0.1182 - val_acc: 0.9816\n",
      "Epoch 144/200\n",
      "50000/50000 [==============================] - 2s 40us/step - loss: 0.0812 - acc: 0.9921 - val_loss: 0.1253 - val_acc: 0.9800\n",
      "Epoch 145/200\n",
      "50000/50000 [==============================] - 2s 41us/step - loss: 0.0792 - acc: 0.9924 - val_loss: 0.2053 - val_acc: 0.9592\n",
      "Epoch 146/200\n",
      "50000/50000 [==============================] - 2s 41us/step - loss: 0.0833 - acc: 0.9913 - val_loss: 0.1590 - val_acc: 0.9742\n",
      "Epoch 147/200\n",
      "50000/50000 [==============================] - 2s 41us/step - loss: 0.0796 - acc: 0.9922 - val_loss: 0.1291 - val_acc: 0.9780\n",
      "Epoch 148/200\n",
      "50000/50000 [==============================] - 2s 41us/step - loss: 0.0777 - acc: 0.9928 - val_loss: 0.1274 - val_acc: 0.9790\n",
      "Epoch 149/200\n",
      "50000/50000 [==============================] - 2s 41us/step - loss: 0.0796 - acc: 0.9923 - val_loss: 0.1327 - val_acc: 0.9767\n",
      "Epoch 150/200\n",
      "50000/50000 [==============================] - 2s 41us/step - loss: 0.0789 - acc: 0.9920 - val_loss: 0.1316 - val_acc: 0.9791\n",
      "Epoch 151/200\n",
      "50000/50000 [==============================] - 2s 40us/step - loss: 0.0795 - acc: 0.9920 - val_loss: 0.1303 - val_acc: 0.9789\n",
      "Epoch 152/200\n",
      "50000/50000 [==============================] - 2s 41us/step - loss: 0.0827 - acc: 0.9915 - val_loss: 0.1229 - val_acc: 0.9817\n",
      "Epoch 153/200\n",
      "50000/50000 [==============================] - 2s 41us/step - loss: 0.0779 - acc: 0.9927 - val_loss: 0.1349 - val_acc: 0.9760\n",
      "Epoch 154/200\n",
      "50000/50000 [==============================] - 2s 41us/step - loss: 0.0842 - acc: 0.9913 - val_loss: 0.1262 - val_acc: 0.9804\n",
      "Epoch 155/200\n",
      "50000/50000 [==============================] - 2s 40us/step - loss: 0.0824 - acc: 0.9918 - val_loss: 0.1196 - val_acc: 0.9814\n",
      "Epoch 156/200\n",
      "50000/50000 [==============================] - 2s 40us/step - loss: 0.0787 - acc: 0.9920 - val_loss: 0.1239 - val_acc: 0.9780\n",
      "Epoch 157/200\n",
      "50000/50000 [==============================] - 2s 40us/step - loss: 0.0803 - acc: 0.9913 - val_loss: 0.1188 - val_acc: 0.9821\n",
      "Epoch 158/200\n",
      "50000/50000 [==============================] - 2s 40us/step - loss: 0.0802 - acc: 0.9919 - val_loss: 0.1625 - val_acc: 0.9703\n",
      "Epoch 159/200\n",
      "50000/50000 [==============================] - 2s 41us/step - loss: 0.0777 - acc: 0.9928 - val_loss: 0.1844 - val_acc: 0.9665\n",
      "Epoch 160/200\n",
      "50000/50000 [==============================] - 2s 41us/step - loss: 0.0843 - acc: 0.9908 - val_loss: 0.1344 - val_acc: 0.9778\n",
      "Epoch 161/200\n",
      "50000/50000 [==============================] - 2s 40us/step - loss: 0.0771 - acc: 0.9927 - val_loss: 0.1255 - val_acc: 0.9798\n",
      "Epoch 162/200\n",
      "50000/50000 [==============================] - 2s 39us/step - loss: 0.0785 - acc: 0.9922 - val_loss: 0.1276 - val_acc: 0.9787\n",
      "Epoch 163/200\n",
      "50000/50000 [==============================] - 2s 40us/step - loss: 0.0755 - acc: 0.9932 - val_loss: 0.1200 - val_acc: 0.9799\n",
      "Epoch 164/200\n",
      "50000/50000 [==============================] - 2s 38us/step - loss: 0.0790 - acc: 0.9920 - val_loss: 0.1566 - val_acc: 0.9714\n",
      "Epoch 165/200\n",
      "50000/50000 [==============================] - 2s 39us/step - loss: 0.0814 - acc: 0.9917 - val_loss: 0.1449 - val_acc: 0.9709\n",
      "Epoch 166/200\n",
      "50000/50000 [==============================] - 2s 40us/step - loss: 0.0759 - acc: 0.9929 - val_loss: 0.1382 - val_acc: 0.9748\n",
      "Epoch 167/200\n",
      "50000/50000 [==============================] - 2s 40us/step - loss: 0.0794 - acc: 0.9920 - val_loss: 0.1425 - val_acc: 0.9768\n",
      "Epoch 168/200\n",
      "50000/50000 [==============================] - 2s 39us/step - loss: 0.0787 - acc: 0.9922 - val_loss: 0.1277 - val_acc: 0.9787\n",
      "Epoch 169/200\n",
      "50000/50000 [==============================] - 2s 40us/step - loss: 0.0788 - acc: 0.9919 - val_loss: 0.1403 - val_acc: 0.9759\n",
      "Epoch 170/200\n",
      "50000/50000 [==============================] - 2s 39us/step - loss: 0.0794 - acc: 0.9917 - val_loss: 0.4138 - val_acc: 0.9102\n",
      "Epoch 171/200\n",
      "50000/50000 [==============================] - 2s 39us/step - loss: 0.0800 - acc: 0.9913 - val_loss: 0.1161 - val_acc: 0.9822\n",
      "Epoch 172/200\n",
      "50000/50000 [==============================] - 2s 39us/step - loss: 0.0758 - acc: 0.9930 - val_loss: 0.1382 - val_acc: 0.9742\n",
      "Epoch 173/200\n",
      "50000/50000 [==============================] - 2s 36us/step - loss: 0.0773 - acc: 0.9921 - val_loss: 0.1324 - val_acc: 0.9775\n",
      "Epoch 174/200\n",
      "50000/50000 [==============================] - 2s 37us/step - loss: 0.0778 - acc: 0.9920 - val_loss: 0.1398 - val_acc: 0.9776\n",
      "Epoch 175/200\n",
      "50000/50000 [==============================] - 2s 37us/step - loss: 0.0788 - acc: 0.9921 - val_loss: 0.1549 - val_acc: 0.9715\n",
      "Epoch 176/200\n"
     ]
    },
    {
     "name": "stdout",
     "output_type": "stream",
     "text": [
      "50000/50000 [==============================] - 2s 37us/step - loss: 0.0773 - acc: 0.9928 - val_loss: 0.1310 - val_acc: 0.9786\n",
      "Epoch 177/200\n",
      "50000/50000 [==============================] - 2s 39us/step - loss: 0.0800 - acc: 0.9918 - val_loss: 0.1254 - val_acc: 0.9802\n",
      "Epoch 178/200\n",
      "50000/50000 [==============================] - 2s 40us/step - loss: 0.0758 - acc: 0.9927 - val_loss: 0.1605 - val_acc: 0.9708\n",
      "Epoch 179/200\n",
      "50000/50000 [==============================] - 2s 39us/step - loss: 0.0797 - acc: 0.9919 - val_loss: 0.1205 - val_acc: 0.9811\n",
      "Epoch 180/200\n",
      "50000/50000 [==============================] - 2s 41us/step - loss: 0.0793 - acc: 0.9923 - val_loss: 0.1615 - val_acc: 0.9678\n",
      "Epoch 181/200\n",
      "50000/50000 [==============================] - 2s 40us/step - loss: 0.0767 - acc: 0.9922 - val_loss: 0.1586 - val_acc: 0.9749\n",
      "Epoch 182/200\n",
      "50000/50000 [==============================] - 2s 40us/step - loss: 0.0777 - acc: 0.9919 - val_loss: 0.1261 - val_acc: 0.9799\n",
      "Epoch 183/200\n",
      "50000/50000 [==============================] - 2s 41us/step - loss: 0.0769 - acc: 0.9925 - val_loss: 0.1288 - val_acc: 0.9790\n",
      "Epoch 184/200\n",
      "50000/50000 [==============================] - 2s 40us/step - loss: 0.0787 - acc: 0.9916 - val_loss: 0.1280 - val_acc: 0.9777\n",
      "Epoch 185/200\n",
      "50000/50000 [==============================] - 2s 40us/step - loss: 0.0756 - acc: 0.9927 - val_loss: 0.1284 - val_acc: 0.9797\n",
      "Epoch 186/200\n",
      "50000/50000 [==============================] - 2s 40us/step - loss: 0.0749 - acc: 0.9930 - val_loss: 0.2068 - val_acc: 0.9548\n",
      "Epoch 187/200\n",
      "50000/50000 [==============================] - 2s 40us/step - loss: 0.0768 - acc: 0.9924 - val_loss: 0.1307 - val_acc: 0.9784\n",
      "Epoch 188/200\n",
      "50000/50000 [==============================] - 2s 41us/step - loss: 0.0774 - acc: 0.9924 - val_loss: 0.1216 - val_acc: 0.9802\n",
      "Epoch 189/200\n",
      "50000/50000 [==============================] - 2s 39us/step - loss: 0.0757 - acc: 0.9931 - val_loss: 0.1249 - val_acc: 0.9797\n",
      "Epoch 190/200\n",
      "50000/50000 [==============================] - 2s 42us/step - loss: 0.0785 - acc: 0.9921 - val_loss: 0.1280 - val_acc: 0.9781\n",
      "Epoch 191/200\n",
      "50000/50000 [==============================] - 2s 39us/step - loss: 0.0763 - acc: 0.9923 - val_loss: 0.1701 - val_acc: 0.9661\n",
      "Epoch 192/200\n",
      "50000/50000 [==============================] - 2s 38us/step - loss: 0.0802 - acc: 0.9919 - val_loss: 0.1285 - val_acc: 0.9801\n",
      "Epoch 193/200\n",
      "50000/50000 [==============================] - 2s 39us/step - loss: 0.0801 - acc: 0.9911 - val_loss: 0.1191 - val_acc: 0.9803\n",
      "Epoch 194/200\n",
      "50000/50000 [==============================] - 2s 38us/step - loss: 0.0747 - acc: 0.9931 - val_loss: 0.1422 - val_acc: 0.9753\n",
      "Epoch 195/200\n",
      "50000/50000 [==============================] - 2s 38us/step - loss: 0.0763 - acc: 0.9924 - val_loss: 0.1277 - val_acc: 0.9789\n",
      "Epoch 196/200\n",
      "50000/50000 [==============================] - 2s 38us/step - loss: 0.0760 - acc: 0.9927 - val_loss: 0.1250 - val_acc: 0.9785\n",
      "Epoch 197/200\n",
      "50000/50000 [==============================] - 2s 39us/step - loss: 0.0786 - acc: 0.9919 - val_loss: 0.1347 - val_acc: 0.9762\n",
      "Epoch 198/200\n",
      "50000/50000 [==============================] - 2s 39us/step - loss: 0.0747 - acc: 0.9931 - val_loss: 0.2108 - val_acc: 0.9599\n",
      "Epoch 199/200\n",
      "50000/50000 [==============================] - 2s 38us/step - loss: 0.0769 - acc: 0.9922 - val_loss: 0.1944 - val_acc: 0.9623\n",
      "Epoch 200/200\n",
      "50000/50000 [==============================] - 2s 38us/step - loss: 0.0777 - acc: 0.9921 - val_loss: 0.1227 - val_acc: 0.9810\n"
     ]
    }
   ],
   "source": [
    "l2_network.compile(optimizer='rmsprop',\n",
    "                   loss='categorical_crossentropy',\n",
    "                   metrics=['accuracy'])\n",
    "history4 = l2_network.fit(X_train, \n",
    "                          y_train, \n",
    "                          epochs=200, \n",
    "                          batch_size=512,\n",
    "                          validation_data=(X_val, y_val))"
   ]
  },
  {
   "cell_type": "code",
   "execution_count": 38,
   "metadata": {},
   "outputs": [
    {
     "data": {
      "image/png": "[encoded data removed]",
      "text/plain": [
       "<Figure size 432x288 with 1 Axes>"
      ]
     },
     "metadata": {},
     "output_type": "display_data"
    }
   ],
   "source": [
    "# Plotting the validation loss\n",
    "val_loss4= history4.history['val_loss']\n",
    "plt.plot(epochs, val_loss4, 'b', label='Validation loss')\n",
    "plt.title('Validation loss (regularization = L2)')\n",
    "plt.xlabel('Epochs')\n",
    "plt.ylabel('Loss')\n",
    "plt.legend()\n",
    "plt.show()"
   ]
  },
  {
   "cell_type": "code",
   "execution_count": 39,
   "metadata": {},
   "outputs": [
    {
     "data": {
      "image/png": "[encoded data removed]",
      "text/plain": [
       "<Figure size 432x288 with 1 Axes>"
      ]
     },
     "metadata": {},
     "output_type": "display_data"
    }
   ],
   "source": [
    "# Plotting the validation accuracy\n",
    "plt.clf() #Clears the figure\n",
    "val_acc4 = history4.history['val_acc']\n",
    "plt.plot(epochs, val_acc3, 'b', label='Validation acc')\n",
    "plt.title('Validation accuracy (regularization = L2)')\n",
    "plt.xlabel('Epochs')\n",
    "plt.ylabel('Loss')\n",
    "plt.legend()\n",
    "plt.show()"
   ]
  },
  {
   "cell_type": "code",
   "execution_count": 40,
   "metadata": {},
   "outputs": [
    {
     "data": {
      "image/png": "[encoded data removed]",
      "text/plain": [
       "<Figure size 432x288 with 1 Axes>"
      ]
     },
     "metadata": {},
     "output_type": "display_data"
    }
   ],
   "source": [
    "# plot validation accuracy (smooth)\n",
    "smooth_history4 = smooth_curve(val_acc4[10:])\n",
    "plt.plot(range(10, len(epochs)), smooth_history4)\n",
    "plt.xlabel('Epochs')\n",
    "plt.ylabel('Validation accuracy')\n",
    "plt.title('Validation accuracy (regularization = L2)')\n",
    "plt.show()"
   ]
  },
  {
   "cell_type": "code",
   "execution_count": 41,
   "metadata": {},
   "outputs": [
    {
     "data": {
      "text/plain": [
       "114"
      ]
     },
     "execution_count": 41,
     "metadata": {},
     "output_type": "execute_result"
    }
   ],
   "source": [
    "np.argmax(val_acc4)"
   ]
  },
  {
   "cell_type": "markdown",
   "metadata": {},
   "source": [
    "The loss plot of L2 regularization also generally keeps decreasing while the accuracy function fluctuates a lot more than L1, which signals a greater possibility of overfitting. L2 regularization cannot shrink the trivial units to zero and in this aspect L1 regularization works better to get a simpler model. The epoch with best performace is in 115 (98.29%)"
   ]
  },
  {
   "cell_type": "code",
   "execution_count": 47,
   "metadata": {},
   "outputs": [
    {
     "data": {
      "image/png": "[encoded data removed]",
      "text/plain": [
       "<Figure size 432x288 with 1 Axes>"
      ]
     },
     "metadata": {},
     "output_type": "display_data"
    }
   ],
   "source": [
    "# plot four validation loss\n",
    "plt.plot(epochs[10:], val_loss[10:], 'b', label='Initial model')\n",
    "plt.plot(epochs[10:], val_loss2[10:], 'r', label='Dropout model')\n",
    "plt.plot(epochs[10:], val_loss3[10:], 'orange', label='L1 model')\n",
    "plt.plot(epochs[10:], val_loss4[10:], 'purple', label='L2 model')\n",
    "plt.title('Validation loss of four models')\n",
    "plt.xlabel('Epochs')\n",
    "plt.ylabel('Loss')\n",
    "plt.legend()\n",
    "plt.show()"
   ]
  },
  {
   "cell_type": "markdown",
   "metadata": {},
   "source": [
    "With eyeballing, L2 model and dropout model are both likely to be the best among the four. However, since dropout model gets highest performace at epoch 147, and lowest epoch before epoch 25, it tends to have overall best performance in the prevoius epoch. So I choose dropout model as the best model"
   ]
  },
  {
   "cell_type": "markdown",
   "metadata": {},
   "source": [
    "*IV. Final model*"
   ]
  },
  {
   "cell_type": "code",
   "execution_count": 48,
   "metadata": {},
   "outputs": [
    {
     "data": {
      "text/plain": [
       "13"
      ]
     },
     "execution_count": 48,
     "metadata": {},
     "output_type": "execute_result"
    }
   ],
   "source": [
    "np.argmin(val_loss2)"
   ]
  },
  {
   "cell_type": "markdown",
   "metadata": {},
   "source": [
    "The best model should be the dropout model. The optimal epoch to get lowest loss is epoch 14"
   ]
  },
  {
   "cell_type": "code",
   "execution_count": 50,
   "metadata": {},
   "outputs": [],
   "source": [
    "best_network = models.Sequential()\n",
    "best_network.add(layers.Dense(512, activation='relu', input_shape=(28 * 28,)))\n",
    "best_network.add(layers.Dense(512, activation='relu'))\n",
    "best_network.add(layers.Dense(512, activation='relu'))\n",
    "best_network.add(layers.Dense(512, activation='relu'))\n",
    "best_network.add(layers.Dense(10, activation='softmax'))"
   ]
  },
  {
   "cell_type": "code",
   "execution_count": 51,
   "metadata": {},
   "outputs": [
    {
     "name": "stdout",
     "output_type": "stream",
     "text": [
      "Epoch 1/14\n",
      "60000/60000 [==============================] - 3s 43us/step - loss: 0.4361 - acc: 0.8611\n",
      "Epoch 2/14\n",
      "60000/60000 [==============================] - 2s 39us/step - loss: 0.1364 - acc: 0.9598\n",
      "Epoch 3/14\n",
      "60000/60000 [==============================] - 2s 40us/step - loss: 0.0820 - acc: 0.9752\n",
      "Epoch 4/14\n",
      "60000/60000 [==============================] - 2s 39us/step - loss: 0.0559 - acc: 0.9831\n",
      "Epoch 5/14\n",
      "60000/60000 [==============================] - 2s 38us/step - loss: 0.0414 - acc: 0.9874\n",
      "Epoch 6/14\n",
      "60000/60000 [==============================] - 2s 40us/step - loss: 0.0334 - acc: 0.9900\n",
      "Epoch 7/14\n",
      "60000/60000 [==============================] - 2s 40us/step - loss: 0.0244 - acc: 0.9920\n",
      "Epoch 8/14\n",
      "60000/60000 [==============================] - 2s 40us/step - loss: 0.0201 - acc: 0.9939\n",
      "Epoch 9/14\n",
      "60000/60000 [==============================] - 2s 37us/step - loss: 0.0178 - acc: 0.9949\n",
      "Epoch 10/14\n",
      "60000/60000 [==============================] - 2s 36us/step - loss: 0.0156 - acc: 0.9952\n",
      "Epoch 11/14\n",
      "60000/60000 [==============================] - 2s 39us/step - loss: 0.0152 - acc: 0.9956\n",
      "Epoch 12/14\n",
      "60000/60000 [==============================] - 2s 36us/step - loss: 0.0138 - acc: 0.9962\n",
      "Epoch 13/14\n",
      "60000/60000 [==============================] - 2s 37us/step - loss: 0.0119 - acc: 0.9967\n",
      "Epoch 14/14\n",
      "60000/60000 [==============================] - 2s 38us/step - loss: 0.0125 - acc: 0.9963\n"
     ]
    },
    {
     "data": {
      "text/plain": [
       "<keras.callbacks.History at 0x7fe709fecb00>"
      ]
     },
     "execution_count": 51,
     "metadata": {},
     "output_type": "execute_result"
    }
   ],
   "source": [
    "best_network.compile(optimizer='rmsprop',\n",
    "                     loss='categorical_crossentropy',\n",
    "                     metrics=['accuracy'])\n",
    "best_network.fit(train_images, train_labels, epochs=14, batch_size=512)"
   ]
  },
  {
   "cell_type": "code",
   "execution_count": 52,
   "metadata": {},
   "outputs": [
    {
     "name": "stdout",
     "output_type": "stream",
     "text": [
      "10000/10000 [==============================] - 1s 82us/step\n"
     ]
    }
   ],
   "source": [
    "test_loss, test_acc = best_network.evaluate(test_images, test_labels)"
   ]
  },
  {
   "cell_type": "code",
   "execution_count": 53,
   "metadata": {},
   "outputs": [
    {
     "data": {
      "text/plain": [
       "(0.09775155047671405, 0.9832)"
      ]
     },
     "execution_count": 53,
     "metadata": {},
     "output_type": "execute_result"
    }
   ],
   "source": [
    "test_loss, test_acc"
   ]
  },
  {
   "cell_type": "markdown",
   "metadata": {},
   "source": [
    "Our model gets 9.8 percent loss and 98.3 percent accuracy on test set, which does a better job than the book (97.8%)."
   ]
  },
  {
   "cell_type": "markdown",
   "metadata": {},
   "source": [
    "**Part 2 Scalar regression**"
   ]
  },
  {
   "cell_type": "code",
   "execution_count": 54,
   "metadata": {},
   "outputs": [
    {
     "name": "stdout",
     "output_type": "stream",
     "text": [
      "Downloading data from https://s3.amazonaws.com/keras-datasets/boston_housing.npz\n",
      "57344/57026 [==============================] - 0s 1us/step\n"
     ]
    }
   ],
   "source": [
    "from keras.datasets import boston_housing\n",
    "(train_data, train_targets), (test_data, test_targets) =boston_housing.load_data()"
   ]
  },
  {
   "cell_type": "code",
   "execution_count": 57,
   "metadata": {},
   "outputs": [],
   "source": [
    "# normalize data \n",
    "mean = train_data.mean(axis=0)\n",
    "train_data -= mean\n",
    "std = train_data.std(axis=0)\n",
    "train_data /= std\n",
    "test_data -= mean\n",
    "test_data /= std"
   ]
  },
  {
   "cell_type": "code",
   "execution_count": 58,
   "metadata": {},
   "outputs": [],
   "source": [
    "def build_model(num_layer):\n",
    "    \n",
    "    model = models.Sequential()\n",
    "    model.add(layers.Dense(64, activation='relu', input_shape=(train_data.shape[1],)))\n",
    "    for i in range(num_layer - 2):\n",
    "        model.add(layers.Dense(64, activation='relu'))\n",
    "    model.add(layers.Dense(1))\n",
    "    model.compile(optimizer='rmsprop', loss='mse', metrics=['mae'])\n",
    "    \n",
    "    return model"
   ]
  },
  {
   "cell_type": "code",
   "execution_count": 60,
   "metadata": {},
   "outputs": [],
   "source": [
    "from sklearn.model_selection import KFold\n",
    "K = 10\n",
    "NUM_EPOCHS = 100"
   ]
  },
  {
   "cell_type": "code",
   "execution_count": 68,
   "metadata": {},
   "outputs": [],
   "source": [
    "def cross_validation(number_layer):\n",
    "    \n",
    "    all_scores = []\n",
    "    kf = KFold(n_splits = K)\n",
    "    for train_index, val_index in kf.split(train_data):\n",
    "        x_train, x_val = train_data[train_index], train_data[val_index]\n",
    "        y_train, y_val = train_targets[train_index], train_targets[val_index]\n",
    "        model = build_model(num_layer)\n",
    "        history = model.fit(x_train, y_train, validation_data=(x_val, y_val),\n",
    "                            epochs=NUM_EPOCHS, batch_size=1, verbose=0) \n",
    "        mae = history.history['val_mean_absolute_error']\n",
    "        all_scores.append(mae)\n",
    "        \n",
    "    return [np.mean([x[i] for x in all_scores]) for i in range(NUM_EPOCHS)]"
   ]
  },
  {
   "cell_type": "code",
   "execution_count": 69,
   "metadata": {},
   "outputs": [],
   "source": [
    "all_scores_2 = cross_validation(2)"
   ]
  },
  {
   "cell_type": "code",
   "execution_count": 70,
   "metadata": {},
   "outputs": [],
   "source": [
    "all_scores_3 = cross_validation(3)"
   ]
  },
  {
   "cell_type": "code",
   "execution_count": 71,
   "metadata": {},
   "outputs": [],
   "source": [
    "all_scores_4 = cross_validation(4)"
   ]
  },
  {
   "cell_type": "code",
   "execution_count": 72,
   "metadata": {},
   "outputs": [
    {
     "data": {
      "text/plain": [
       "array(10)"
      ]
     },
     "execution_count": 72,
     "metadata": {},
     "output_type": "execute_result"
    }
   ],
   "source": [
    "epochs_1 = np.arrange(10)\n"
   ]
  },
  {
   "cell_type": "code",
   "execution_count": 76,
   "metadata": {},
   "outputs": [
    {
     "data": {
      "image/png": "[encoded data removed]",
      "text/plain": [
       "<Figure size 432x288 with 1 Axes>"
      ]
     },
     "metadata": {},
     "output_type": "display_data"
    }
   ],
   "source": [
    "# plot mae for 2-4 layers of network model\n",
    "epochs_1 = np.arange(100)\n",
    "plt.plot(epochs_1[5:], all_scores_2[5:], 'b', label='num_layer = 2')\n",
    "plt.plot(epochs_1[5:], all_scores_3[5:], 'r', label='num_layer = 3')\n",
    "plt.plot(epochs_1[5:], all_scores_4[5:], 'orange', label='num_layer = 4')\n",
    "\n",
    "plt.title('Mean absolute error of network models with different number of layer')\n",
    "plt.xlabel('Epochs')\n",
    "plt.ylabel('MAE')\n",
    "plt.legend()\n",
    "plt.show()"
   ]
  },
  {
   "cell_type": "markdown",
   "metadata": {},
   "source": [
    "We can see from the plot that model with one hidden layer has the best performance."
   ]
  },
  {
   "cell_type": "code",
   "execution_count": 77,
   "metadata": {},
   "outputs": [
    {
     "data": {
      "text/plain": [
       "2.163807182602766"
      ]
     },
     "execution_count": 77,
     "metadata": {},
     "output_type": "execute_result"
    }
   ],
   "source": [
    "min(all_scores_2)"
   ]
  },
  {
   "cell_type": "code",
   "execution_count": 78,
   "metadata": {},
   "outputs": [
    {
     "data": {
      "text/plain": [
       "94"
      ]
     },
     "execution_count": 78,
     "metadata": {},
     "output_type": "execute_result"
    }
   ],
   "source": [
    "np.argmin(all_scores_2)"
   ]
  },
  {
   "cell_type": "code",
   "execution_count": 79,
   "metadata": {},
   "outputs": [],
   "source": [
    "# find the best epoch after adding dropout rate and regularization\n",
    "def build_new_model():\n",
    "    \n",
    "    model = models.Sequential()\n",
    "    model.add(layers.Dense(64, activation='relu', input_shape=(train_data.shape[1],), \n",
    "                           kernel_regularizer=regularizers.l2(0.01)))\n",
    "    drop_network.add(layers.Dropout(0.5))\n",
    "    model.add(layers.Dense(1))\n",
    "    model.compile(optimizer='rmsprop', loss='mse', metrics=['mae'])\n",
    "    \n",
    "    return model"
   ]
  },
  {
   "cell_type": "code",
   "execution_count": 81,
   "metadata": {},
   "outputs": [],
   "source": [
    "all_scores_best = []\n",
    "kf = KFold(n_splits = K)\n",
    "for train_index, val_index in kf.split(train_data):\n",
    "    x_train, x_val = train_data[train_index], train_data[val_index]\n",
    "    y_train, y_val = train_targets[train_index], train_targets[val_index]\n",
    "    model = build_new_model()\n",
    "    history_best = model.fit(x_train, y_train, validation_data=(x_val, y_val),\n",
    "                             epochs=NUM_EPOCHS, batch_size=1, verbose=0) \n",
    "    mae = history_best.history['val_mean_absolute_error']\n",
    "    all_scores_best.append(mae)"
   ]
  },
  {
   "cell_type": "code",
   "execution_count": 82,
   "metadata": {},
   "outputs": [],
   "source": [
    "avg_scores = [np.mean([x[i] for x in all_scores_best]) for i in range(NUM_EPOCHS)]"
   ]
  },
  {
   "cell_type": "code",
   "execution_count": 84,
   "metadata": {},
   "outputs": [
    {
     "data": {
      "image/png": "[encoded data removed]",
      "text/plain": [
       "<Figure size 432x288 with 1 Axes>"
      ]
     },
     "metadata": {},
     "output_type": "display_data"
    }
   ],
   "source": [
    "# plot mae for the best network model\n",
    "plt.plot(epochs_1[10:], avg_scores[10:], 'b', label='num_layer = 2')\n",
    "\n",
    "plt.title('Mean absolute error of network models')\n",
    "plt.xlabel('Epochs')\n",
    "plt.ylabel('MAE')\n",
    "plt.legend()\n",
    "plt.show()"
   ]
  },
  {
   "cell_type": "code",
   "execution_count": 85,
   "metadata": {},
   "outputs": [
    {
     "data": {
      "text/plain": [
       "87"
      ]
     },
     "execution_count": 85,
     "metadata": {},
     "output_type": "execute_result"
    }
   ],
   "source": [
    "np.argmin(avg_scores)"
   ]
  },
  {
   "cell_type": "markdown",
   "metadata": {},
   "source": [
    "The epoch with lowest mae is the 88th."
   ]
  },
  {
   "cell_type": "code",
   "execution_count": 86,
   "metadata": {},
   "outputs": [
    {
     "data": {
      "text/plain": [
       "2.131304439335335"
      ]
     },
     "execution_count": 86,
     "metadata": {},
     "output_type": "execute_result"
    }
   ],
   "source": [
    "min(avg_scores)"
   ]
  },
  {
   "cell_type": "code",
   "execution_count": 87,
   "metadata": {},
   "outputs": [
    {
     "data": {
      "text/plain": [
       "<keras.callbacks.History at 0x7fe6fecf1908>"
      ]
     },
     "execution_count": 87,
     "metadata": {},
     "output_type": "execute_result"
    }
   ],
   "source": [
    "model.fit(train_data, train_targets, epochs=88, batch_size=1, verbose=0)"
   ]
  },
  {
   "cell_type": "code",
   "execution_count": 88,
   "metadata": {},
   "outputs": [
    {
     "name": "stdout",
     "output_type": "stream",
     "text": [
      "102/102 [==============================] - 0s 90us/step\n"
     ]
    }
   ],
   "source": [
    "test_mse_score, test_mae_score = model.evaluate(test_data, test_targets)"
   ]
  },
  {
   "cell_type": "code",
   "execution_count": 91,
   "metadata": {},
   "outputs": [
    {
     "name": "stdout",
     "output_type": "stream",
     "text": [
      "The test mse is  14.771894417557062\n"
     ]
    }
   ],
   "source": [
    "print('The test mse is ', test_mse_score)"
   ]
  },
  {
   "cell_type": "markdown",
   "metadata": {},
   "source": []
  }
 ],
 "metadata": {
  "kernelspec": {
   "display_name": "Python [default]",
   "language": "python",
   "name": "python3"
  },
  "language_info": {
   "codemirror_mode": {
    "name": "ipython",
    "version": 3
   },
   "file_extension": ".py",
   "mimetype": "text/x-python",
   "name": "python",
   "nbconvert_exporter": "python",
   "pygments_lexer": "ipython3",
   "version": "3.6.3"
  }
 },
 "nbformat": 4,
 "nbformat_minor": 2
}
